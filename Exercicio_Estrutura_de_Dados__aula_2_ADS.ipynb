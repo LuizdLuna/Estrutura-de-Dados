{
  "nbformat": 4,
  "nbformat_minor": 0,
  "metadata": {
    "colab": {
      "provenance": []
    },
    "kernelspec": {
      "name": "python3",
      "display_name": "Python 3"
    },
    "language_info": {
      "name": "python"
    }
  },
  "cells": [
    {
      "cell_type": "markdown",
      "source": [
        "#Análise de Algoritmos - Aula 2"
      ],
      "metadata": {
        "id": "z_q9cfWSIheD"
      }
    },
    {
      "cell_type": "markdown",
      "source": [
        "#Exercicio 1: Tempo de execução\n",
        "\n",
        "Com base no exemplo da aula vamos analisar o tempo de execução do `exercicio1`."
      ],
      "metadata": {
        "id": "M3sVjj19U2EG"
      }
    },
    {
      "cell_type": "code",
      "source": [
        "def exercicio1(n):\n",
        "    i = 0  # Inicialização de i, custo c1, executado 1 vez\n",
        "    a = 0  # Inicialização de a, custo c2, executado 1 vez\n",
        "\n",
        "    while i < n: # Loop while, custo c3, número de execuções é aproximadamente n\n",
        "        a += i   # ?\n",
        "        i += 1   # ?\n",
        "    return a     # Retorno de a, custo c6, executado 1 vez"
      ],
      "metadata": {
        "id": "hSjwMZjjVoN_"
      },
      "execution_count": null,
      "outputs": []
    },
    {
      "cell_type": "markdown",
      "source": [
        "# Fórmula completa para o tempo de execução do `exercicio1`\n",
        "\n",
        "Pergunta 1 - Qual é o custo e o numero de execuções das linhas que estão com interrogação (# ?) acima?\n",
        "\n",
        "Resposta:\n",
        "\n",
        "Pergunta 2 - Qual é o tempo de execução \\( T(n) \\) do exercicio acima?\n",
        "\n",
        "Obs:. Lembre-se que \\( T(n) \\) pode ser expresso como a soma dos produtos do custo de cada linha pelo número de vezes que essa linha é executada.\n",
        "\n",
        "Obs2:. Inspire-se no exercicio ilustrado no notebook da Aula 2.\n",
        "\n",
        "Resposta: $ T(n) = ... $\n",
        "\n",
        "\n",
        "Pergunta 3 - Para grandes valores de \\( n \\), qual é a complexidade de tempo do `exercicio1`?\n",
        "\n",
        "Resposta: $ T(n) \\in O(?) $\n"
      ],
      "metadata": {
        "id": "pFVAzVLiri-h"
      }
    },
    {
      "cell_type": "markdown",
      "source": [
        "#Exercicio 2: Analise do Insertion Sort (Fazer esse em Java)\n",
        "\n",
        "Implemente o codigo do Insertion Sort e print o comparativo de tempo de execução para pior caso (Entrada invertida) e melhor caso (Entrada ordenada) para valores de entrada 10, 100, 500, 1000, 2000, 5000. E responda as perguntas.\n",
        "\n",
        "Espera-se como resposta algo assim--> ![Captura de tela de 2025-02-14 18-46-57.png](data:image/png;base64,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)\n",
        "\n",
        "Obs:. A função Insertion Sort foi implementada na Aula 2 em Java considerando comparar uma entrada ordenada e uma aleatória."
      ],
      "metadata": {
        "id": "zAUDi6m4FLX8"
      }
    },
    {
      "cell_type": "markdown",
      "source": [
        "Pergunta 4 -Qual e a complexidade de pior caso do Insertion sort (em termos de big-O e θ)?\n",
        "\n",
        "Resposta:\n",
        "\n",
        "Pergunta 5 -Qual e a complexidade do melhor caso do Insertion sort (em termos de big-O, θ e Ω)?\n",
        "\n",
        "Resposta:"
      ],
      "metadata": {
        "id": "Y3BaJYc6Ehbc"
      }
    }
  ]
}