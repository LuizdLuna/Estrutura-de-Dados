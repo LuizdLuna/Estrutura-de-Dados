{
  "nbformat": 4,
  "nbformat_minor": 0,
  "metadata": {
    "colab": {
      "provenance": []
    },
    "kernelspec": {
      "name": "python3",
      "display_name": "Python 3"
    },
    "language_info": {
      "name": "python"
    }
  },
  "cells": [
    {
      "cell_type": "markdown",
      "source": [
        "#Exercício - Aula 9"
      ],
      "metadata": {
        "id": "kLjFdFjml_9z"
      }
    },
    {
      "cell_type": "markdown",
      "source": [
        "## Questão 1\n",
        "\n",
        "Implemente uma TAD Lista Posicional em Java que permite inserir elementos na primeira e última posição, e também permite navegar pela lista.\n",
        "\n",
        "Crie uma lista posicional com os seguintes elementos, nesta ordem:\n",
        "\n",
        "1. Adicione o número 10 no início.\n",
        "2. Adicione o número 20 no final.\n",
        "3. Adicione o número 30 no final.\n",
        "4. Adicione o número 25 antes do número 30.\n",
        "5. Adicione o número 15 após o número 10."
      ],
      "metadata": {
        "id": "fVP2kr1zmRP8"
      }
    },
    {
      "cell_type": "markdown",
      "source": [
        "```java\n",
        "    // MAIN para teste\n",
        "    public static void main(String[] args) {\n",
        "        PositionalList list = new PositionalList();\n",
        "\n",
        "        list.addFirst(10);       // [10]\n",
        "        list.addLast(20);        // [10, 20]\n",
        "        list.addLast(30);        // [10, 20, 30]\n",
        "        list.addBefore(30, 25);  // [10, 20, 25, 30]\n",
        "        list.addAfter(10, 15);   // [10, 15, 20, 25, 30]\n",
        "\n",
        "        list.printList(); // Saída esperada: 10 15 20 25 30\n",
        "    }\n",
        "```"
      ],
      "metadata": {
        "id": "I0P_g2L0m3Fr"
      }
    }
  ]
}