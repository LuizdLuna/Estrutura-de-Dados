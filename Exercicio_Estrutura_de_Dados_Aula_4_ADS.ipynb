{
  "nbformat": 4,
  "nbformat_minor": 0,
  "metadata": {
    "colab": {
      "provenance": []
    },
    "kernelspec": {
      "name": "python3",
      "display_name": "Python 3"
    },
    "language_info": {
      "name": "python"
    }
  },
  "cells": [
    {
      "cell_type": "markdown",
      "source": [
        "#Aula 4 - Exercícios"
      ],
      "metadata": {
        "id": "lZsqSIHAxFMf"
      }
    },
    {
      "cell_type": "markdown",
      "source": [
        "(4 pontos) Implemente uma SinglyLinkedList em **python** e execute o solicitado abaixo:\n",
        "\n",
        "\n",
        "\n",
        "   1. A lista é criada usando a classe SinglyLinkedList, que implementa uma lista simplesmente encadeada.\n",
        "\n",
        "   2.  Os elementos 10, 20 e 30 são adicionados no início da lista usando o método addFirst.\n",
        "        - Após as adições, a lista fica na ordem: [30, 20, 10].\n",
        "\n",
        "    3. Os elementos 40 e 50 são adicionados no final da lista usando o método addLast.\n",
        "       - Após as adições, a lista fica na ordem: [30, 20, 10, 40, 50].\n",
        "\n",
        "    4. Use o método first() retorna o primeiro elemento da lista. Qual número aparecerá?\n",
        "\n",
        "    5. Usamos método last() retorna o último elemento da lista. Qual número aparecerá?\n",
        "\n",
        "    6. Usamos método removeFirst() remove e retorna o primeiro elemento da lista (30).\n",
        "       - Após a remoção, a lista fica na ordem: [20, 10, 40, 50].\n",
        "\n",
        "    7. Usamos método size() retorna o número de elementos na lista.\n",
        "       - Após a remoção do primeiro elemento, o tamanho da lista é 4.\n",
        "\n",
        "    8. O método isEmpty() retorna true se a lista estiver vazia e false caso contrário.\n",
        "        Neste caso, a lista não está vazia, então o método retorna false.\n",
        "\n",
        "    9. Um loop while é usado para remover todos os elementos da lista, um por um, usando o método removeFirst().\n",
        "       - A cada remoção, o elemento removido é exibido.\n",
        "\n",
        "    7. Após a remoção de todos os elementos, o método isEmpty() é chamado novamente.\n",
        "        -Agora, a lista está vazia, então o método retorna true.\n",
        "\n",
        "**Obs**: Isso foi implementado em Java na Aula (Está no notebook da Aula 4).Agora deve-se implementar em Python.\n",
        "\n",
        "8. Entrega\n",
        "\n",
        "        - No Teams, envie somente o arquivo:\n",
        "        .ipynb\n",
        "\n",
        "\n"
      ],
      "metadata": {
        "id": "HhBMhcW7uyP7"
      }
    },
    {
      "cell_type": "code",
      "execution_count": null,
      "metadata": {
        "id": "6zzrmKp1usj1"
      },
      "outputs": [],
      "source": [
        "#Coloque o codigo aqui..."
      ]
    },
    {
      "cell_type": "markdown",
      "source": [
        "## (6 pontos) Implementação de Lista Duplamente Encadeada em Java\n",
        "\n",
        "### Instruções\n",
        "\n",
        "1. **Crie a classe `DoublyLinkedBase.java`**  \n",
        "   - Essa classe deve conter a implementação de uma lista duplamente encadeada, ou seja, cada nó tem ponteiros tanto para o nó anterior quanto para o nó seguinte.\n",
        "\n",
        "2. **Crie o arquivo `Main.java`**  \n",
        "   - No método `main`, você deve executar os **Exemplos 1, 2, 3 e 4** da mesma forma que foram demonstrados em Python no notebook da Aula 4.\n",
        "   - Caso o notebook da Aula 4 contenha operações específicas (como adicionar elementos, remover elementos, verificar o tamanho da lista, etc.), essas mesmas operações devem ser reproduzidas em Java.\n",
        "\n",
        "3. **Entrega**  \n",
        "   - No Teams, envie **somente** os arquivos:\n",
        "     - `DoublyLinkedBase.java`\n",
        "     - `Main.java`\n",
        "\n",
        "\n",
        "\n"
      ],
      "metadata": {
        "id": "27bpeyzrvzss"
      }
    }
  ]
}