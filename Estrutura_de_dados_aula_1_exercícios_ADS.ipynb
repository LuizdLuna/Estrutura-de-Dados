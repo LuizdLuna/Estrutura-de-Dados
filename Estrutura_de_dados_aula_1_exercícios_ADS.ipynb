{
  "nbformat": 4,
  "nbformat_minor": 0,
  "metadata": {
    "colab": {
      "provenance": []
    },
    "kernelspec": {
      "name": "python3",
      "display_name": "Python 3"
    },
    "language_info": {
      "name": "python"
    }
  },
  "cells": [
    {
      "cell_type": "markdown",
      "source": [
        "Nome:"
      ],
      "metadata": {
        "id": "YqxuEv7UtQV6"
      }
    },
    {
      "cell_type": "markdown",
      "source": [
        "#Exercício 1: Tipos Primitivos e Operadores (faça esse em Python)\n",
        "Descrição: Crie um programa que solicite ao usuário dois números e exiba a soma, subtração, multiplicação, divisão, divisão inteira, módulo e exponenciação desses números."
      ],
      "metadata": {
        "id": "cQJ3oBvrq9sF"
      }
    },
    {
      "cell_type": "code",
      "execution_count": null,
      "metadata": {
        "id": "wwCIcRolqdOo"
      },
      "outputs": [],
      "source": [
        "# Exercício 1\n",
        "num1 = float(input(\"Digite o primeiro número: \"))\n",
        "num2 = float(input(\"Digite o segundo número: \"))\n",
        "\n",
        "print(f\"Soma: {num1 + num2}\")\n",
        "#continue...."
      ]
    },
    {
      "cell_type": "markdown",
      "source": [
        "#Exercício 2: Estruturas de Decisão (faça esse em  Java)\n",
        "Descrição: Crie um programa que solicite ao usuário uma nota (0-10) e exiba uma mensagem indicando se ele foi aprovado (nota >= 7), está de recuperação (nota entre 5 e 6.9) ou foi reprovado (nota < 5)."
      ],
      "metadata": {
        "id": "INBR7chSrWVI"
      }
    },
    {
      "cell_type": "markdown",
      "source": [
        "#Exercício 3: Estruturas de Repetição com for (faça esse em  Java)\n",
        "Descrição: Crie um programa que exiba uma tabuada de um número que será informado pelo usuário (de 1 a 10)."
      ],
      "metadata": {
        "id": "mwic_a2crttz"
      }
    },
    {
      "cell_type": "markdown",
      "source": [
        "#Exercício 4: Variáveis e Entrada/Saída Básica (faça esse em  Java)\n",
        "Descrição: Crie um programa que solicite ao usuário seu nome, idade e altura. Em seguida, exiba uma mensagem com essas informações formatadas."
      ],
      "metadata": {
        "id": "l8kNqRExs1e3"
      }
    },
    {
      "cell_type": "markdown",
      "source": [
        "Obs: Após finalizar o exercício em **python** clique em arquivo-->Fazer Download--> e clique em **.ipynb **. Esse arquivo deve ser entregue na `Atividade 1 - Python` no Teams. Faça os exercícios restantes em Java e  entregue em `Atividade 1 - Java` no Teams."
      ],
      "metadata": {
        "id": "yb2bCnapT-Jz"
      }
    }
  ]
}