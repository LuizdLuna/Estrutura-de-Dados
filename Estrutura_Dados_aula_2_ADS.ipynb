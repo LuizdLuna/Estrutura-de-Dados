{
  "nbformat": 4,
  "nbformat_minor": 0,
  "metadata": {
    "colab": {
      "provenance": []
    },
    "kernelspec": {
      "name": "python3",
      "display_name": "Python 3"
    },
    "language_info": {
      "name": "python"
    }
  },
  "cells": [
    {
      "cell_type": "markdown",
      "source": [
        "#Análise de Algoritmos - Aula 2"
      ],
      "metadata": {
        "id": "z_q9cfWSIheD"
      }
    },
    {
      "cell_type": "markdown",
      "source": [
        "# Exemplos de Notação Assintótica Big O em Python\n",
        "\n",
        "#### Função O(1) - Tempo constante\n",
        "\n",
        "####Uma função O(1) executa em tempo constante, independentemente do tamanho da entrada."
      ],
      "metadata": {
        "id": "_Qcdb-L0yzZp"
      }
    },
    {
      "cell_type": "code",
      "source": [
        "def constant_time(n):\n",
        "    return n + 1\n",
        "\n",
        "print(constant_time(10))  # Sempre retorna 11, independentemente do valor de n\n"
      ],
      "metadata": {
        "id": "MsG3C3WQy0pL",
        "colab": {
          "base_uri": "https://localhost:8080/"
        },
        "outputId": "d7f7583c-bc6b-4759-9025-bcc825ac99fb"
      },
      "execution_count": null,
      "outputs": [
        {
          "output_type": "stream",
          "name": "stdout",
          "text": [
            "11\n"
          ]
        }
      ]
    },
    {
      "cell_type": "markdown",
      "source": [
        "####Função O(n) - Tempo linear\n",
        "####Uma função O(n) executa em tempo linear, ou seja, o tempo de execução aumenta proporcionalmente ao tamanho da entrada."
      ],
      "metadata": {
        "id": "hmDNIqIMzMar"
      }
    },
    {
      "cell_type": "code",
      "source": [
        "def linear_time(n):\n",
        "    total = 0\n",
        "    for i in range(n):\n",
        "        total += i\n",
        "    return total\n",
        "\n",
        "print(linear_time(10))  # Executa 10 iterações\n"
      ],
      "metadata": {
        "colab": {
          "base_uri": "https://localhost:8080/"
        },
        "id": "AtNACk8WzQ-e",
        "outputId": "bacddec1-c989-4aa0-e020-9cb2666f49f2"
      },
      "execution_count": null,
      "outputs": [
        {
          "output_type": "stream",
          "name": "stdout",
          "text": [
            "45\n"
          ]
        }
      ]
    },
    {
      "cell_type": "markdown",
      "source": [
        "####Função O(n²) - Tempo quadrático\n",
        "####Uma função O(n²) executa em tempo quadrático, ou seja, o tempo de execução aumenta proporcionalmente ao quadrado do tamanho da entrada."
      ],
      "metadata": {
        "id": "J-4slaAszcLk"
      }
    },
    {
      "cell_type": "code",
      "source": [
        "def quadratic_time(n):\n",
        "    total = 0\n",
        "    for i in range(n):\n",
        "        for j in range(n):\n",
        "            total += i + j\n",
        "    return total\n",
        "\n",
        "print(quadratic_time(10))  # Executa 10 * 10 iterações\n"
      ],
      "metadata": {
        "colab": {
          "base_uri": "https://localhost:8080/"
        },
        "id": "I0yQIVrjzYob",
        "outputId": "f51e0fd2-209c-4329-f781-cc894cd2c6ec"
      },
      "execution_count": null,
      "outputs": [
        {
          "output_type": "stream",
          "name": "stdout",
          "text": [
            "900\n"
          ]
        }
      ]
    },
    {
      "cell_type": "markdown",
      "source": [
        "####Comparação de Desempenho\n",
        "####Para visualizar a diferença nos tempos de execução, podemos usar o módulo time para medir o tempo que cada função leva para ser executada com diferentes tamanhos de entrada."
      ],
      "metadata": {
        "id": "rs1-sBgRzt-d"
      }
    },
    {
      "cell_type": "code",
      "source": [
        "def measure_time(func, n):\n",
        "    start_time = time.time()\n",
        "    result = func(n)\n",
        "    end_time = time.time()\n",
        "    return end_time - start_time\n",
        "\n",
        "n_values = [10, 100, 1000]\n",
        "\n",
        "for n in n_values:\n",
        "    print(f\"n = {n}\")\n",
        "    print(f\"Constant time: {measure_time(constant_time, n):.6f} seconds\")\n",
        "    print(f\"Linear time: {measure_time(linear_time, n):.6f} seconds\")\n",
        "    print(f\"Quadratic time: {measure_time(quadratic_time, n):.6f} seconds\")\n",
        "    print()\n"
      ],
      "metadata": {
        "id": "Sulpv_4uz14I"
      },
      "execution_count": null,
      "outputs": []
    },
    {
      "cell_type": "markdown",
      "source": [
        "####Visualização Gráfica\n",
        "####Para uma visualização gráfica, podemos usar a biblioteca matplotlib para plotar os tempos de execução."
      ],
      "metadata": {
        "id": "uOLNfCJVz2sK"
      }
    },
    {
      "cell_type": "code",
      "source": [
        "n_values = [10, 50, 100, 200, 500]\n",
        "\n",
        "constant_times = [measure_time(constant_time, n) for n in n_values]\n",
        "linear_times = [measure_time(linear_time, n) for n in n_values]\n",
        "quadratic_times = [measure_time(quadratic_time, n) for n in n_values]\n",
        "\n",
        "plt.plot(n_values, constant_times, label=\"O(1)\", marker='o')\n",
        "plt.plot(n_values, linear_times, label=\"O(n)\", marker='o')\n",
        "plt.plot(n_values, quadratic_times, label=\"O(n²)\", marker='o')\n",
        "plt.xlabel(\"Tamanho da entrada (n)\")\n",
        "plt.ylabel(\"Tempo (seconds)\")\n",
        "plt.title(\"Comparação complexidade de tempo\")\n",
        "plt.legend()\n",
        "plt.show()\n"
      ],
      "metadata": {
        "id": "qo8iS4L5z6pk"
      },
      "execution_count": null,
      "outputs": []
    },
    {
      "cell_type": "markdown",
      "source": [
        "#Tempo de execução\n",
        "\n",
        "Com base no exemplo da aula vamos analisar o tempo de execução do exercicio 1 e 2."
      ],
      "metadata": {
        "id": "M3sVjj19U2EG"
      }
    },
    {
      "cell_type": "code",
      "source": [
        "def exercicio1(n):\n",
        "    i = 0  # Inicialização de i, custo c1, executado 1 vez\n",
        "    a = 0  # Inicialização de a, custo c2, executado 1 vez\n",
        "\n",
        "    # Loop while, custo c3, número de execuções é aproximadamente n/2\n",
        "    while i < n:\n",
        "        a += i  # Incremento de a com i, custo c4, executado n/2 vezes\n",
        "        i += 2  # Incremento de i por 2, custo c5, executado n/2 vezes\n",
        "    return a  # Retorno de a, custo c6, executado 1 vez"
      ],
      "metadata": {
        "id": "hSjwMZjjVoN_"
      },
      "execution_count": null,
      "outputs": []
    },
    {
      "cell_type": "markdown",
      "source": [
        "# Fórmula completa para o tempo de execução do `exercicio1`\n",
        "\n",
        "O tempo total de execução \\( T(n) \\) pode ser expresso como a soma dos produtos do custo de cada linha pelo número de vezes que essa linha é executada:\n",
        "\n",
        "$ T(n) = c1 \\cdot 1 + c2 \\cdot 1 + c3 \\cdot \\left(\\frac{n}{2}\\right) + c4 \\cdot \\left(\\frac{n}{2}\\right) + c5 \\cdot \\left(\\frac{n}{2}\\right) + c6 \\cdot 1 $\n",
        "\n",
        "Simplificando, temos:\n",
        "\n",
        "$ T(n) = c1 + c2 + (c3 + c4 + c5) \\cdot \\left(\\frac{n}{2}\\right) + c6 $\n",
        "\n",
        "Para grandes valores de \\( n \\), o termo dominante é o linear $ \\frac{n}{2} $, portanto a complexidade de tempo é:\n",
        "\n",
        "$ T(n) \\in O(n) $\n"
      ],
      "metadata": {
        "id": "pFVAzVLiri-h"
      }
    },
    {
      "cell_type": "code",
      "source": [
        "def exercicio2(n):\n",
        "    a = 0  # Inicialização de a, custo c1, executado 1 vez\n",
        "\n",
        "    # Loop externo de i, custo c2, executado n vezes\n",
        "    for i in range(n):\n",
        "        # Loop interno de j, custo c3, executado (i-1) + (i-2) + ... + 1 + 0 vezes\n",
        "        for j in range(i):\n",
        "            a += i + j  # Soma de i e j a a, custo c4, executado (i-1) + (i-2) + ... + 1 + 0 vezes\n",
        "    return a  # Retorno de a, custo c5, executado 1 vez\n"
      ],
      "metadata": {
        "id": "oVfo0bW-rw5o"
      },
      "execution_count": null,
      "outputs": []
    },
    {
      "cell_type": "markdown",
      "source": [
        "# Fórmula completa para o tempo de execução do `exercicio2`\n",
        "\n",
        "O tempo total de execução \\( T(n) \\) pode ser expresso como a soma dos produtos do custo de cada linha pelo número de vezes que essa linha é executada:\n",
        "\n",
        "$ T(n) = c1 \\cdot 1 + c2 \\cdot n + c3 \\cdot \\sum_{i=0}^{n-1} i + c4 \\cdot \\sum_{i=0}^{n-1} i + c5 \\cdot 1 $\n",
        "\n",
        "Onde:\n",
        "$ \\sum_{i=0}^{n-1} i = 0 + 1 + 2 + \\ldots + (n-1) $\n",
        "Esta soma é equivalente a:\n",
        "$ \\frac{(n-1)n}{2} $\n",
        "\n",
        "Substituindo, temos:\n",
        "\n",
        "$ T(n) = c1 \\cdot 1 + c2 \\cdot n + c3 \\cdot \\left(\\frac{(n-1)n}{2}\\right) + c4 \\cdot \\left(\\frac{(n-1)n}{2}\\right) + c5 \\cdot 1 $\n",
        "\n",
        "Simplificando, temos:\n",
        "\n",
        "$ T(n) = c1 + c2 \\cdot n + (c3 + c4) \\cdot \\frac{n^2 - n}{2} + c5 $\n",
        "\n",
        "Para grandes valores de \\( n \\), os termos quadráticos dominam, portanto a complexidade de tempo é:\n",
        "\n",
        "$ T(n) \\in O(n^2) $\n",
        "\n"
      ],
      "metadata": {
        "id": "wJW4qfrTsbdu"
      }
    },
    {
      "cell_type": "markdown",
      "source": [
        "# Vamos comparar visualmente os tempos de execução do `exercicio1` e `exercicio2`"
      ],
      "metadata": {
        "id": "ioTPUmI_t7xv"
      }
    },
    {
      "cell_type": "code",
      "source": [
        "import time #biblioteca de tempo\n",
        "import matplotlib.pyplot as plt #biblioteca grafica\n",
        "\n",
        "def exercicio1(n):\n",
        "    i = 0\n",
        "    a = 0\n",
        "    while i < n:\n",
        "        a += i\n",
        "        i += 2\n",
        "    return a\n",
        "\n",
        "def exercicio2(n):\n",
        "    a = 0\n",
        "    for i in range(n):\n",
        "        for j in range(i):\n",
        "            a += i + j\n",
        "    return a\n",
        "\n",
        "# Função para medir o tempo de execução\n",
        "def measure_time(func, n):\n",
        "    start_time = time.time()\n",
        "    func(n)\n",
        "    end_time = time.time()\n",
        "    return end_time - start_time\n",
        "\n",
        "# Listas para armazenar os resultados\n",
        "ns = range(100, 1001, 100)\n",
        "times_exercicio1 = []\n",
        "times_exercicio2 = []\n",
        "\n",
        "# Medindo o tempo de execução para diferentes valores de n\n",
        "for n in ns:\n",
        "    times_exercicio1.append(measure_time(exercicio1, n))\n",
        "    times_exercicio2.append(measure_time(exercicio2, n))\n",
        "\n",
        "# Plotando os resultados\n",
        "plt.figure(figsize=(10, 5))\n",
        "plt.plot(ns, times_exercicio1, label='exercicio1 (O(n))')\n",
        "plt.plot(ns, times_exercicio2, label='exercicio2 (O(n^2))')\n",
        "plt.xlabel('Tamanho da Entrada (n)')\n",
        "plt.ylabel('Tempo de Execução (segundos)')\n",
        "plt.title('Tempo de Execução das Funções')\n",
        "plt.legend()\n",
        "plt.grid(True)\n",
        "plt.show()"
      ],
      "metadata": {
        "id": "O7zlIgJRt6qI",
        "outputId": "8f03d4d7-dbd0-4754-de6b-0c20b4ade358",
        "colab": {
          "base_uri": "https://localhost:8080/",
          "height": 487
        }
      },
      "execution_count": null,
      "outputs": [
        {
          "output_type": "display_data",
          "data": {
            "text/plain": [
              "<Figure size 1000x500 with 1 Axes>"
            ],
            "image/png": "[encoded data removed]"
          },
          "metadata": {}
        }
      ]
    },
    {
      "cell_type": "markdown",
      "source": [
        "#Em Java"
      ],
      "metadata": {
        "id": "9XxYKfkyMluD"
      }
    },
    {
      "cell_type": "markdown",
      "source": [
        "###Implementação do Exercício 1\n",
        "\n",
        "```java\n",
        "public class Exercicio1 {\n",
        "\n",
        "    public static int exercicio1(int n) {\n",
        "        int i = 0;  // Inicialização de i, custo c1, executado 1 vez\n",
        "        int a = 0;  // Inicialização de a, custo c2, executado 1 vez\n",
        "\n",
        "        // Loop while, custo c3, número de execuções é aproximadamente n/2\n",
        "        while (i < n) {\n",
        "            a += i;  // Incremento de a com i, custo c4, executado n/2 vezes\n",
        "            i += 2;  // Incremento de i por 2, custo c5, executado n/2 vezes\n",
        "        }\n",
        "        return a;  // Retorno de a, custo c6, executado 1 vez\n",
        "    }\n",
        "\n",
        "    public static void main(String[] args) {\n",
        "        int n = 10;  // Exemplo de valor para n\n",
        "        int resultado = exercicio1(n);\n",
        "        System.out.println(\"Resultado: \" + resultado);\n",
        "    }\n",
        "}\n",
        "```"
      ],
      "metadata": {
        "id": "ZKlqXKS_NQSf"
      }
    },
    {
      "cell_type": "markdown",
      "source": [
        "### Implementação do Exercício 2\n",
        "\n",
        "```java\n",
        "public class Exercicio2 {\n",
        "\n",
        "    public static int exercicio2(int n) {\n",
        "        int a = 0;  // Inicialização de a, custo c1, executado 1 vez\n",
        "\n",
        "        // Loop externo de i, custo c2, executado n vezes\n",
        "        for (int i = 0; i < n; i++) {\n",
        "            // Loop interno de j, custo c3, executado i vezes\n",
        "            for (int j = 0; j < i; j++) {\n",
        "                a += i + j;  // Soma de i e j a a, custo c4, executado i vezes para cada i\n",
        "            }\n",
        "        }\n",
        "        return a;  // Retorno de a, custo c5, executado 1 vez\n",
        "    }\n",
        "\n",
        "    public static void main(String[] args) {\n",
        "        int n = 5;  // Exemplo de valor para n\n",
        "        int resultado = exercicio2(n);\n",
        "        System.out.println(\"Resultado: \" + resultado);\n",
        "    }\n",
        "}\n",
        "```"
      ],
      "metadata": {
        "id": "8nWA_eBPNf1G"
      }
    },
    {
      "cell_type": "markdown",
      "source": [
        "### Implementação do Algoritmo de ordenação por inserção em Python"
      ],
      "metadata": {
        "id": "yS8lrs24RHI7"
      }
    },
    {
      "cell_type": "code",
      "source": [
        "# Função de ordenação por inserção\n",
        "def insertion_sort(arr):\n",
        "    for i in range(1, len(arr)):\n",
        "        key = arr[i]\n",
        "        j = i - 1\n",
        "        while j >= 0 and key < arr[j]:\n",
        "            arr[j + 1] = arr[j]\n",
        "            j -= 1\n",
        "        arr[j + 1] = key\n",
        "\n",
        "# Função para medir o tempo de execução de uma função de ordenação\n",
        "def measure_time(func, arr):\n",
        "    start_time = time.time()\n",
        "    func(arr)\n",
        "    end_time = time.time()\n",
        "    return end_time - start_time\n",
        "\n",
        "# Tamanhos de entrada para o teste\n",
        "n_values = [10, 100, 500, 1000, 2000, 5000]\n",
        "\n",
        "# Listas para armazenar os tempos de execução\n",
        "best_case_times = []\n",
        "worst_case_times = []\n",
        "\n",
        "# Medindo os tempos de execução para cada tamanho de entrada\n",
        "for n in n_values:\n",
        "    best_case = list(range(n))  # Entrada ordenada (melhor caso)\n",
        "    worst_case = list(range(n, 0, -1))  # Entrada em ordem inversa (pior caso)\n",
        "\n",
        "    best_case_times.append(measure_time(insertion_sort, best_case.copy()))\n",
        "    worst_case_times.append(measure_time(insertion_sort, worst_case.copy()))\n",
        "\n",
        "# Plotando os resultados\n",
        "plt.plot(n_values, best_case_times, label=\"Melhor caso (O(n))\", marker='o')\n",
        "plt.plot(n_values, worst_case_times, label=\"Pior caso (O(n²))\", marker='o')\n",
        "plt.xlabel(\"Tamanho da entrada (n)\")\n",
        "plt.ylabel(\"Tempo (seconds)\")\n",
        "plt.title(\"Complexidade de tempo do Insertion Sort\")\n",
        "plt.legend()\n",
        "plt.grid(True)\n",
        "plt.show()\n"
      ],
      "metadata": {
        "colab": {
          "base_uri": "https://localhost:8080/",
          "height": 472
        },
        "id": "uomXljrJNgFR",
        "outputId": "1d9b7017-f1d3-4ac7-debc-e814789a4727"
      },
      "execution_count": null,
      "outputs": [
        {
          "output_type": "display_data",
          "data": {
            "text/plain": [
              "<Figure size 640x480 with 1 Axes>"
            ],
            "image/png": "[encoded data removed]"
          },
          "metadata": {}
        }
      ]
    },
    {
      "cell_type": "markdown",
      "source": [
        "###Implementaçao do Algoritmo de ordenação por inserção em Java\n",
        "\n",
        "```java\n",
        "import java.util.Random;\n",
        "\n",
        "public class InsertionSortTest {\n",
        "\n",
        "    /**\n",
        "     * Implementação do Insertion Sort em Java.\n",
        "     *\n",
        "     * @param arr array de inteiros a ser ordenado\n",
        "     */\n",
        "    public static void insertionSort(int[] arr) {\n",
        "        for (int i = 1; i < arr.length; i++) {\n",
        "            int key = arr[i];\n",
        "            int j = i - 1;\n",
        "\n",
        "            // Move os elementos arr[j] que são maiores que key para\n",
        "            // uma posição à frente da sua posição atual.\n",
        "            while (j >= 0 && arr[j] > key) {\n",
        "                arr[j + 1] = arr[j];\n",
        "                j--;\n",
        "            }\n",
        "            arr[j + 1] = key;\n",
        "        }\n",
        "    }\n",
        "\n",
        "    /**\n",
        "     * Gera um array de inteiros aleatórios no intervalo [0, range).\n",
        "     *\n",
        "     * @param size  Tamanho do array\n",
        "     * @param range Valor máximo de cada elemento\n",
        "     * @return array de inteiros\n",
        "     */\n",
        "    public static int[] generateRandomArray(int size, int range) {\n",
        "        Random rand = new Random();\n",
        "        int[] arr = new int[size];\n",
        "        for (int i = 0; i < size; i++) {\n",
        "            arr[i] = rand.nextInt(range);\n",
        "        }\n",
        "        return arr;\n",
        "    }\n",
        "\n",
        "    /**\n",
        "     * Gera um array já ordenado (crescente) de 0 até size-1.\n",
        "     *\n",
        "     * @param size Tamanho do array\n",
        "     * @return array ordenado de inteiros\n",
        "     */\n",
        "    public static int[] generateSortedArray(int size) {\n",
        "        int[] arr = new int[size];\n",
        "        for (int i = 0; i < size; i++) {\n",
        "            arr[i] = i;  // ou outra sequência crescente\n",
        "        }\n",
        "        return arr;\n",
        "    }\n",
        "\n",
        "    /**\n",
        "     * Mede o tempo de execução de uma função de ordenação.\n",
        "     *\n",
        "     * @param arr o array a ordenar\n",
        "     * @return tempo em nanosegundos\n",
        "     */\n",
        "    public static long measureInsertionSortTime(int[] arr) {\n",
        "        long start = System.nanoTime();\n",
        "        insertionSort(arr);\n",
        "        long end = System.nanoTime();\n",
        "        return end - start;\n",
        "    }\n",
        "\n",
        "    public static void main(String[] args) {\n",
        "        // Tamanhos solicitados\n",
        "        int[] sizes = {10, 100, 500, 1000, 2000, 5000};\n",
        "\n",
        "        System.out.printf(\"%-10s %-20s %-20s\\n\", \"N\", \"Ordenado(ns)\", \"Desordenado(ns)\");\n",
        "        for (int n : sizes) {\n",
        "            // Gera array ordenado\n",
        "            int[] sortedArray = generateSortedArray(n);\n",
        "            // Gera array aleatório (desordenado)\n",
        "            int[] randomArray = generateRandomArray(n, 100000);\n",
        "\n",
        "            // Mede tempo para o array ordenado\n",
        "            long timeSorted = measureInsertionSortTime(sortedArray);\n",
        "\n",
        "            // Mede tempo para o array aleatório\n",
        "            long timeRandom = measureInsertionSortTime(randomArray);\n",
        "\n",
        "            System.out.printf(\"%-10d %-20d %-20d\\n\", n, timeSorted, timeRandom);\n",
        "        }\n",
        "    }\n",
        "}\n",
        "\n",
        "```"
      ],
      "metadata": {
        "id": "bScbRbKfVcDy"
      }
    }
  ]
}