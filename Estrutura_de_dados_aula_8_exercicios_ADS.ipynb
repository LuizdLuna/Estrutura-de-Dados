{
  "nbformat": 4,
  "nbformat_minor": 0,
  "metadata": {
    "colab": {
      "provenance": []
    },
    "kernelspec": {
      "name": "python3",
      "display_name": "Python 3"
    },
    "language_info": {
      "name": "python"
    }
  },
  "cells": [
    {
      "cell_type": "markdown",
      "source": [
        "#Árvores"
      ],
      "metadata": {
        "id": "z_q9cfWSIheD"
      }
    },
    {
      "cell_type": "markdown",
      "source": [
        "#Exercicio 1 (Em Python apenas - 10 pontos):\n",
        "\n",
        "Copie o codigo que implementa da \"ArvoreBinariaLigada\""
      ],
      "metadata": {
        "id": "M3sVjj19U2EG"
      }
    },
    {
      "cell_type": "code",
      "source": [
        "#Cole o codigo aqui\n"
      ],
      "metadata": {
        "id": "hSjwMZjjVoN_"
      },
      "execution_count": null,
      "outputs": []
    },
    {
      "cell_type": "markdown",
      "source": [
        "Crie um arvore bínaria"
      ],
      "metadata": {
        "id": "DYTVai6aJAnq"
      }
    },
    {
      "cell_type": "code",
      "source": [
        "#Codigo aqui"
      ],
      "metadata": {
        "id": "bph8s9k63yOl"
      },
      "execution_count": null,
      "outputs": []
    },
    {
      "cell_type": "markdown",
      "source": [
        "Adicione a raiz com valor 1"
      ],
      "metadata": {
        "id": "v2kE1aiT32Yf"
      }
    },
    {
      "cell_type": "code",
      "source": [
        "#Codigo aqui"
      ],
      "metadata": {
        "id": "zB-KF6Gj38-C"
      },
      "execution_count": null,
      "outputs": []
    },
    {
      "cell_type": "markdown",
      "source": [
        "Adição de filhos à raiz\n",
        "\n",
        "Adicione um filho a esquerda da raiz com valor 2\n",
        "\n",
        "e\n",
        "\n",
        "Adicione um filho a direita da raiz com valor 3"
      ],
      "metadata": {
        "id": "sSES2kOr3-T7"
      }
    },
    {
      "cell_type": "code",
      "source": [
        "#codigo aqui"
      ],
      "metadata": {
        "id": "N37iK7GCI8G4"
      },
      "execution_count": null,
      "outputs": []
    },
    {
      "cell_type": "markdown",
      "source": [
        "Realize o print da raiz, do filho esquerdo da raiz e do filho direito da raiz\n",
        "\n"
      ],
      "metadata": {
        "id": "-Q1xKWkuyjAW"
      }
    },
    {
      "cell_type": "code",
      "source": [
        "#codigo aqui"
      ],
      "metadata": {
        "id": "aMfaWTBs5Ltb"
      },
      "execution_count": null,
      "outputs": []
    },
    {
      "cell_type": "markdown",
      "source": [
        "#Exercicio 2\n",
        "\n",
        "Qual é a definição de raiz (em Árvore)?\n",
        "\n",
        "Resposta:\n",
        "\n",
        "Qual é a definição de filhos (em Árvore)?\n",
        "\n",
        "Resposta:\n",
        "\n",
        "\n",
        "Qual é a definição de pai (em Árvore)?\n",
        "\n",
        "Resposta:\n",
        "\n",
        "\n",
        "Forneça dois exemplos de aplicação de Árvore binária?\n",
        "\n",
        "Resposta:\n",
        "\n"
      ],
      "metadata": {
        "id": "TEnRjMK65N8M"
      }
    },
    {
      "cell_type": "markdown",
      "source": [
        "#Exercicio 3\n",
        "\n",
        "Sobre orientação à objetos em árvores\n",
        "\n",
        "De o exemplo de duas classes utilizadas?\n",
        "\n",
        "Resposta:\n",
        "\n",
        "Sobre o conceito de \"herança\". A ArvoreBinaria herda de quem? e a ArvoreBinariaLigada herda de quem?\n",
        "\n",
        "Resposta:\n",
        "\n",
        "Considere as classes ArvoreBinaria e ArvoreBinariaLigada definidas em um sistema de implementação de árvores binárias. Na classe ArvoreBinaria, são definidos métodos abstratos como esquerda, direita e pai, enquanto na classe ArvoreBinariaLigada esses métodos são implementados para manipular uma árvore binária usando uma estrutura ligada.\n",
        "\n",
        "Qual é o conceito de programação orientada a objetos que melhor descreve essa situação?\n",
        "\n",
        "Resposta:\n",
        "\n",
        "\n",
        "\n",
        "\n",
        "\n",
        "\n",
        "\n"
      ],
      "metadata": {
        "id": "AXkiZaTw7t03"
      }
    }
  ]
}