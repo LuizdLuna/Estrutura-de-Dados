{
  "cells": [
    {
      "cell_type": "markdown",
      "metadata": {
        "id": "YqxuEv7UtQV6"
      },
      "source": [
        "Nome:"
      ]
    },
    {
      "cell_type": "markdown",
      "metadata": {
        "id": "cQJ3oBvrq9sF"
      },
      "source": [
        "#Exercício 1: Herança (Em Python) (3 pontos)\n",
        "\n",
        "Descrição:\n",
        "Crie uma classe Person e uma classe Student que herde de Person. A classe Person deve ter atributos para nome e idade, e a classe Student deve adicionar um atributo para o número de matrícula e um método para exibir as informações do estudante.\n",
        "\n",
        "Requisitos:\n",
        "\n",
        "Crie a classe Person com atributos name e age.\n",
        "Crie a classe Student que herda de Person e adiciona o atributo student_id.\n",
        "Adicione um método display_info na classe Student para exibir as informações do estudante."
      ]
    },
    {
      "cell_type": "code",
      "execution_count": 3,
      "metadata": {
        "id": "wwCIcRolqdOo"
      },
      "outputs": [
        {
          "name": "stdout",
          "output_type": "stream",
          "text": [
            "Name: Alice, Age: 20\n",
            "Student ID: S12345\n"
          ]
        }
      ],
      "source": [
        "# Exercício 1\n",
        "class Person:\n",
        "    def __init__(self, name, age):\n",
        "        self.name = name\n",
        "        self.age = age\n",
        "\n",
        "    def display_info(self):\n",
        "        print(f\"Name: {self.name}, Age: {self.age}\")\n",
        "\n",
        "class Student(Person):\n",
        "    def __init__(self, name, age, student_id):\n",
        "        super().__init__(name, age)\n",
        "        self.student_id = student_id\n",
        "\n",
        "    def display_info(self):\n",
        "        super().display_info()\n",
        "        print(f\"Student ID: {self.student_id}\")\n",
        "\n",
        "student = Student(\"Alice\", 20, \"S12345\")\n",
        "student.display_info()"
      ]
    },
    {
      "cell_type": "markdown",
      "metadata": {
        "id": "INBR7chSrWVI"
      },
      "source": [
        "#Exercício 2: Encapsulamento (Em python) (3 pontos)\n",
        "Descrição:\n",
        "Crie uma classe BankAccount que encapsule os detalhes de uma conta bancária. A classe deve ter métodos para depositar, sacar dinheiro e verificar o saldo. Os atributos do saldo devem ser privados.\n",
        "\n",
        "Requisitos:\n",
        "\n",
        "Crie a classe BankAccount com um atributo privado __balance.\n",
        "Crie métodos públicos deposit, withdraw e get_balance.\n",
        "Verifique se o valor a ser sacado não é maior que o saldo disponível."
      ]
    },
    {
      "cell_type": "code",
      "execution_count": 4,
      "metadata": {
        "id": "M8-V7vJ2rh9U"
      },
      "outputs": [
        {
          "name": "stdout",
          "output_type": "stream",
          "text": [
            "Depósito de 10 realizado com sucesso!\n",
            "Valor de saque inválido ou saldo insuficiente.\n",
            "Saldo atual: 20\n"
          ]
        }
      ],
      "source": [
        "# Exercício 2\n",
        "class BankAccount:\n",
        "    def __init__(self, initial_balance=0):\n",
        "        self.__balance = initial_balance\n",
        "\n",
        "    def deposit(self, amount):\n",
        "        if amount > 0:\n",
        "            self.__balance += amount\n",
        "            print(f\"Depósito de {amount} realizado com sucesso!\")\n",
        "        else:\n",
        "            print(\"O valor do depósito deve ser positivo.\")\n",
        "\n",
        "    def withdraw(self, amount):\n",
        "        if 0 < amount <= self.__balance:\n",
        "            self.__balance -= amount\n",
        "            print(f\"Saque de {amount} realizado com sucesso!\")\n",
        "        else:\n",
        "            print(\"Valor de saque inválido ou saldo insuficiente.\")\n",
        "\n",
        "    def get_balance(self):\n",
        "        return self.__balance\n",
        "    \n",
        "account = BankAccount(10)\n",
        "account.deposit(10)\n",
        "account.withdraw(30)\n",
        "print(f\"Saldo atual: {account.get_balance()}\")"
      ]
    }
  ],
  "metadata": {
    "colab": {
      "provenance": []
    },
    "kernelspec": {
      "display_name": "Python 3",
      "name": "python3"
    },
    "language_info": {
      "codemirror_mode": {
        "name": "ipython",
        "version": 3
      },
      "file_extension": ".py",
      "mimetype": "text/x-python",
      "name": "python",
      "nbconvert_exporter": "python",
      "pygments_lexer": "ipython3",
      "version": "3.12.1"
    }
  },
  "nbformat": 4,
  "nbformat_minor": 0
}
