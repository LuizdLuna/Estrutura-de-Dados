{
  "cells": [
    {
      "cell_type": "markdown",
      "metadata": {
        "id": "YqxuEv7UtQV6"
      },
      "source": [
        "Nome:"
      ]
    },
    {
      "cell_type": "markdown",
      "metadata": {
        "id": "cQJ3oBvrq9sF"
      },
      "source": [
        "#Exercício 1: Herança (Em Python) (3 pontos)\n",
        "\n",
        "Descrição:\n",
        "Crie uma classe Person e uma classe Student que herde de Person. A classe Person deve ter atributos para nome e idade, e a classe Student deve adicionar um atributo para o número de matrícula e um método para exibir as informações do estudante.\n",
        "\n",
        "Requisitos:\n",
        "\n",
        "Crie a classe Person com atributos name e age.\n",
        "Crie a classe Student que herda de Person e adiciona o atributo student_id.\n",
        "Adicione um método display_info na classe Student para exibir as informações do estudante."
      ]
    },
    {
      "cell_type": "code",
      "execution_count": null,
      "metadata": {
        "id": "wwCIcRolqdOo"
      },
      "outputs": [],
      "source": [
        "# Exercício 1\n",
        "class Person:\n",
        "    def __init__(self, name, age):\n",
        "        #self.  #continue\n",
        "        #self.  #continue\n",
        "\n",
        "    def display_info(self):\n",
        "        print(f\"Name: {self.name}, Age: {self.age}\")\n",
        "\n",
        "class Student(Person):\n",
        "    def __init__(self, name, age, student_id):\n",
        "        super().__init__(name, age)\n",
        "        self.student_id = student_id\n",
        "\n",
        "    def display_info(self):\n",
        "        super().display_info()\n",
        "        print(f\"Student ID: {self.student_id}\")"
      ]
    },
    {
      "cell_type": "markdown",
      "metadata": {
        "id": "9AyVUGvTeUv6"
      },
      "source": [
        "Valide o resultado"
      ]
    },
    {
      "cell_type": "code",
      "execution_count": null,
      "metadata": {
        "id": "V9r1faDCeZzI"
      },
      "outputs": [],
      "source": [
        "# Exemplo de uso\n",
        "student = Student(\"Alice\", 20, \"S12345\")\n",
        "student.display_info()\n",
        "\n",
        "##########Resultado#############\n",
        "#Name: Alice, Age: 20\n",
        "#Student ID: S12345"
      ]
    },
    {
      "cell_type": "markdown",
      "metadata": {
        "id": "INBR7chSrWVI"
      },
      "source": [
        "#Exercício 2: Encapsulamento (Em python) (3 pontos)\n",
        "Descrição:\n",
        "Crie uma classe BankAccount que encapsule os detalhes de uma conta bancária. A classe deve ter métodos para depositar, sacar dinheiro e verificar o saldo. Os atributos do saldo devem ser privados.\n",
        "\n",
        "Requisitos:\n",
        "\n",
        "Crie a classe BankAccount com um atributo privado __balance.\n",
        "Crie métodos públicos deposit, withdraw e get_balance.\n",
        "Verifique se o valor a ser sacado não é maior que o saldo disponível."
      ]
    },
    {
      "cell_type": "code",
      "execution_count": null,
      "metadata": {
        "id": "M8-V7vJ2rh9U"
      },
      "outputs": [],
      "source": [
        "# Exercício 2\n",
        "class BankAccount:\n",
        "    def __init__(self, initial_balance=0):\n",
        "        self.__balance = initial_balance\n",
        "\n",
        "    def deposit(self, amount):\n",
        "        if amount > 0:\n",
        "            #self.__balance += #continue\n",
        "            print(f\"Depósito de {amount} realizado com sucesso!\")\n",
        "        else:\n",
        "            print(\"O valor do depósito deve ser positivo.\")\n",
        "\n",
        "    def withdraw(self, amount):\n",
        "        if 0 < amount <= self.__balance:\n",
        "            #self.__balance -= #continue\n",
        "            print(f\"Saque de {amount} realizado com sucesso!\")\n",
        "        else:\n",
        "            print(\"Valor de saque inválido ou saldo insuficiente.\")\n",
        "\n",
        "    def get_balance(self):\n",
        "        return self.__balance"
      ]
    },
    {
      "cell_type": "markdown",
      "metadata": {
        "id": "tjmHckpGeys_"
      },
      "source": [
        "Valide o resultado"
      ]
    },
    {
      "cell_type": "code",
      "execution_count": null,
      "metadata": {
        "id": "6tpsqWzwe4dW"
      },
      "outputs": [],
      "source": [
        "# Usando a função\n",
        "account = BankAccount(100)\n",
        "account.deposit(50)\n",
        "account.withdraw(30)\n",
        "print(f\"Saldo atual: {account.get_balance()}\")\n",
        "\n",
        "#########Resultado#############\n",
        "# Depósito de 50 realizado com sucesso!\n",
        "# Saque de 30 realizado com sucesso!\n",
        "# Saldo atual: 120"
      ]
    },
    {
      "cell_type": "markdown",
      "metadata": {
        "id": "PyMQ4SuYs52s"
      },
      "source": [
        "# Exercício 3 : Classe `ContaBancaria` (Fazer em Java - 4 pontos)\n",
        "\n",
        "## Descrição\n",
        "\n",
        "Crie uma classe chamada `ContaBancaria` que represente uma conta bancária simples. A classe deve encapsular os atributos privados e fornecer métodos públicos para realizar operações bancárias, como depositar, sacar e consultar o saldo.\n",
        "\n",
        "## Requisitos\n",
        "\n",
        "### Atributos Privados\n",
        "\n",
        "- `String titular`: Nome do titular da conta.\n",
        "- `double saldo`: Saldo atual da conta.\n",
        "- `String numeroConta`: Número da conta bancária.\n",
        "\n",
        "### Métodos Públicos\n",
        "\n",
        "- `void depositar(double valor)`: Adiciona um valor ao saldo da conta.\n",
        "- `void sacar(double valor)`: Subtrai um valor do saldo da conta, desde que haja saldo suficiente.\n",
        "- `double consultarSaldo()`: Retorna o saldo atual da conta.\n",
        "- `String exibirDadosConta()`: Retorna uma string formatada com os dados da conta (titular, número da conta e saldo).\n",
        "\n",
        "### Regras de Negócio\n",
        "\n",
        "- O saldo não pode ser negativo. Se um saque for tentado e o saldo for insuficiente, exiba uma mensagem de erro.\n",
        "- O saldo inicial da conta deve ser definido como `0.0` no construtor.\n",
        "\n",
        "### Construtor\n",
        "\n",
        "- Crie um construtor que receba o `titular` e o `numeroConta` como parâmetros e inicialize o saldo como `0.0`.\n",
        "\n",
        "```java\n",
        "public class Main {\n",
        "    public static void main(String[] args) {\n",
        "        // Criando uma conta bancária\n",
        "        ContaBancaria conta = new ContaBancaria(\"João Silva\", \"12345-6\");\n",
        "\n",
        "        // Exibindo dados da conta\n",
        "        System.out.println(conta.exibirDadosConta());\n",
        "\n",
        "        // Depositando dinheiro\n",
        "        conta.depositar(1000.0);\n",
        "        System.out.println(\"Saldo após depósito: \" + conta.consultarSaldo());\n",
        "\n",
        "        // Sacando dinheiro\n",
        "        conta.sacar(500.0);\n",
        "        System.out.println(\"Saldo após saque: \" + conta.consultarSaldo());\n",
        "\n",
        "        // Tentando sacar mais do que o saldo disponível\n",
        "        conta.sacar(600.0); // Deve exibir uma mensagem de erro\n",
        "\n",
        "        // Exibindo dados atualizados da conta\n",
        "        System.out.println(conta.exibirDadosConta());\n",
        "    }\n",
        "}\n",
        "```\n",
        "#### Saída Esperada\n",
        "```\n",
        "Titular: João Silva, Número da Conta: 12345-6, Saldo: R$ 0.0\n",
        "Saldo após depósito: 1000.0\n",
        "Saldo após saque: 500.0\n",
        "Erro: Saldo insuficiente para saque.\n",
        "Titular: João Silva, Número da Conta: 12345-6, Saldo: R$ 500.0\n",
        "```\n",
        "\n",
        "### Implementação da Classe ContaBancaria\n",
        "\n",
        "#### Aqui está um esboço da classe ContaBancaria para você começar:\n",
        "\n",
        "```java\n",
        "public class ContaBancaria {\n",
        "    // Atributos privados\n",
        "    private String titular;\n",
        "    private double saldo;\n",
        "    private String numeroConta;\n",
        "\n",
        "    // Construtor\n",
        "    public ContaBancaria(String titular, String numeroConta) {\n",
        "        this.titular = titular;\n",
        "        this.numeroConta = numeroConta;\n",
        "        this.saldo = 0.0; // Saldo inicial\n",
        "    }\n",
        "\n",
        "    // Método para depositar dinheiro\n",
        "    public void depositar(double valor) {\n",
        "        // Implemente aqui\n",
        "    }\n",
        "\n",
        "    // Método para sacar dinheiro\n",
        "    public void sacar(double valor) {\n",
        "        // Implemente aqui\n",
        "    }\n",
        "\n",
        "    // Método para consultar o saldo\n",
        "    public double consultarSaldo() {\n",
        "        // Implemente aqui\n",
        "    }\n",
        "\n",
        "    // Método para exibir os dados da conta\n",
        "    public String exibirDadosConta() {\n",
        "        // Implemente aqui\n",
        "    }\n",
        "}\n",
        "```\n",
        "\n",
        "#### Dicas\n",
        "\n",
        "- Use o método System.out.println para exibir mensagens de erro, como \"Erro: Saldo insuficiente para saque.\"\n",
        "\n",
        "- Formate a saída do método exibirDadosConta() para exibir o saldo com duas casas decimais (ex: R$ 500.00).\n",
        "\n",
        "- Lembre-se de validar o saldo antes de realizar um saque.\n",
        "\n",
        "\n"
      ]
    }
  ],
  "metadata": {
    "colab": {
      "provenance": []
    },
    "kernelspec": {
      "display_name": "Python 3",
      "name": "python3"
    },
    "language_info": {
      "name": "python",
      "version": "3.12.1"
    }
  },
  "nbformat": 4,
  "nbformat_minor": 0
}
