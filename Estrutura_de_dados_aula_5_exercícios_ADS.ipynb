{
  "cells": [
    {
      "cell_type": "markdown",
      "metadata": {
        "id": "YqxuEv7UtQV6"
      },
      "source": [
        "Nome:"
      ]
    },
    {
      "cell_type": "markdown",
      "metadata": {
        "id": "3BWVzoVuZ7QS"
      },
      "source": [
        "###Correspondência de Tags em uma Linguagem de Marcação\n",
        "\n",
        "####Outra aplicação de correspondência de delimitadores está na validação de linguagens de marcação, como HTML ou XML. O HTML é o formato padrão para documentos hiperlinkados na Internet, e o XML é uma linguagem de marcação extensível usada para vários conjuntos de dados estruturados.\n",
        "\n",
        "\n",
        "# Exercício: Verificação de Correspondência de Tags HTML (5 pontos - Java )(5 pontos - Python)\n",
        "\n",
        "Neste exercício, você implementará uma pilha em Java e Python para testar se um documento HTML possui a correspondência correta de suas tags (Matching Tags). Você receberá dois códigos HTML (Código 1 e Código 2) e deverá utilizar o método de teste desenvolvido em Java e Python para verificar se o tagamento está correto.\n",
        "\n",
        "## Objetivos\n",
        "\n",
        "- **Implementar uma pilha em Java e Python:** Crie uma classe que implemente a estrutura de pilha para armazenar as tags.\n",
        "- **Extrair e analisar as tags:** Utilize métodos como `indexOf` e `substring` da classe `String` para localizar e extrair as tags do documento HTML.\n",
        "- **Verificar o aninhamento correto:** Ao percorrer o documento da esquerda para a direita, empilhe as tags de abertura e, ao encontrar uma tag de fechamento, desempilhe e compare para garantir que sejam correspondentes.\n",
        "- **Testar os códigos HTML:** Aplique seu algoritmo aos dois códigos (Códigos 1 e 2) fornecidos para identificar se o tagamento está correto.\n"
      ]
    },
    {
      "cell_type": "markdown",
      "metadata": {
        "id": "S6wpzEG4YdY7"
      },
      "source": [
        "Código 1 - Para testar!\n",
        "\n",
        "```html\n",
        "<body>\n",
        "    <center>\n",
        "        <h1> The Little Boat </h1>\n",
        "    </center>\n",
        "    <p> The storm tossed the little\n",
        "    boat like a cheap sneaker in an\n",
        "    old washing machine. The three\n",
        "    drunken fishermen were used to\n",
        "    such treatment, of course, but\n",
        "    not the tree salesman, who even as\n",
        "    a stowaway now felt that he\n",
        "    had overpaid for the voyage. </p>\n",
        "    <ol>\n",
        "        <li> Will the salesman die? </li>\n",
        "        <li> What color is the boat? </li>\n",
        "        <li> And what about Naomi? </li>\n",
        "    </ol>\n",
        "</body>\n",
        "```"
      ]
    },
    {
      "cell_type": "markdown",
      "metadata": {
        "id": "qNtSRsoZbtgV"
      },
      "source": [
        "Código 2 - Para Testar!"
      ]
    },
    {
      "cell_type": "markdown",
      "metadata": {
        "id": "sX4pmi8JbkA_"
      },
      "source": [
        "```html\n",
        "<body>\n",
        "  <center>\n",
        "    <h1>The Little Boat</h1>\n",
        "  </center>\n",
        "  <p>\n",
        "    The storm tossed the little boat like a cheap sneaker in an old washing machine.\n",
        "    The three drunken fishermen were used to such treatment, of course, but not the tree salesman,\n",
        "    who even as a stowaway now felt that he had overpaid for the voyage.\n",
        "  <ol>\n",
        "    <li>Will the salesman die?</li>\n",
        "    <li>What color is the boat?</li>\n",
        "    <li>And what about Naomi?</li>\n",
        "  </ol>\n",
        "</body>\n",
        "```"
      ]
    },
    {
      "cell_type": "code",
      "execution_count": null,
      "metadata": {
        "id": "ViS2xcFSbiwg"
      },
      "outputs": [],
      "source": [
        "#Codigo python"
      ]
    }
  ],
  "metadata": {
    "colab": {
      "provenance": []
    },
    "kernelspec": {
      "display_name": "Python 3",
      "name": "python3"
    },
    "language_info": {
      "name": "python"
    }
  },
  "nbformat": 4,
  "nbformat_minor": 0
}
