{
  "cells": [
    {
      "cell_type": "markdown",
      "metadata": {
        "id": "PwbWNioOIspb"
      },
      "source": [
        "#Nome:"
      ]
    },
    {
      "cell_type": "markdown",
      "metadata": {
        "id": "dTIrg2PwnasI"
      },
      "source": [
        "##Exercicio 1 em Python (6 pontos):\n",
        "\n",
        "Hashing: Copie o codigo class HashTable e cole nesse notebook.\n",
        "\n",
        "Crie a classe e insira os seguintes valores -->\n",
        "\n",
        "####hash_table[54] = \"capivara\"\n",
        "####hash_table[26] = \"cachorro\"\n",
        "####hash_table[93] = \"lontra\"\n",
        "####hash_table[17] = \"tigre\"\n",
        "####hash_table[77] = \"Aguia\"\n",
        "####hash_table[31] = \"peixe\"\n",
        "####hash_table[44] = \"zebra\"\n",
        "####hash_table[55] = \"Leopardo\"\n",
        "\n",
        "Em seguida recuperar os valores --> 54,17,93 e 44.\n",
        "\n",
        "E atualize o valor existente em 44 para um animal da sua escolha.\n",
        "\n",
        "Pergunta: Qual é o metodo utilizado no codigo class HashTable que resolve o problema das colisões? E qual problema surge devido ao uso desse método?\n",
        "Resposta: O método utilizado foi o encadeamento, as colisões são resolvidas armazenando múltiplos pares (chave, valor) numa lista em cada posição da tabela. Mas pode causar degradação de desempenho se muitas chaves colidirem (mesmo índice), pois a busca vira uma busca linear dentro da lista encadeada.\n",
        "\n"
      ]
    },
    {
      "cell_type": "code",
      "execution_count": 1,
      "metadata": {
        "id": "g275SDnh8PLr"
      },
      "outputs": [
        {
          "name": "stdout",
          "output_type": "stream",
          "text": [
            "54: capivara\n",
            "17: tigre\n",
            "93: lontra\n",
            "44: zebra\n",
            "44 (atualizado): panda\n"
          ]
        }
      ],
      "source": [
        "class HashTable:\n",
        "    def __init__(self):\n",
        "        self.size = 100\n",
        "        self.table = [[] for _ in range(self.size)]\n",
        "\n",
        "    def _hash(self, key):\n",
        "        return key % self.size\n",
        "\n",
        "    def __setitem__(self, key, value):\n",
        "        index = self._hash(key)\n",
        "        # Atualiza se já existir\n",
        "        for pair in self.table[index]:\n",
        "            if pair[0] == key:\n",
        "                pair[1] = value\n",
        "                return\n",
        "        # Caso contrário, insere novo par\n",
        "        self.table[index].append([key, value])\n",
        "\n",
        "    def __getitem__(self, key):\n",
        "        index = self._hash(key)\n",
        "        for pair in self.table[index]:\n",
        "            if pair[0] == key:\n",
        "                return pair[1]\n",
        "        raise KeyError(\"Chave não encontrada\")\n",
        "\n",
        "    def __str__(self):\n",
        "        return str(self.table)\n",
        "\n",
        "hash_table = HashTable()\n",
        "\n",
        "hash_table[54] = \"capivara\"\n",
        "hash_table[26] = \"cachorro\"\n",
        "hash_table[93] = \"lontra\"\n",
        "hash_table[17] = \"tigre\"\n",
        "hash_table[77] = \"aguia\"\n",
        "hash_table[31] = \"peixe\"\n",
        "hash_table[44] = \"zebra\"\n",
        "hash_table[55] = \"leopardo\"\n",
        "\n",
        "print(\"54:\", hash_table[54]) \n",
        "print(\"17:\", hash_table[17]) \n",
        "print(\"93:\", hash_table[93])  \n",
        "print(\"44:\", hash_table[44])  \n",
        "\n",
        "hash_table[44] = \"panda\"\n",
        "print(\"44 (atualizado):\", hash_table[44])  # panda\n",
        "\n"
      ]
    },
    {
      "cell_type": "markdown",
      "metadata": {
        "id": "MEVE9C18FD8n"
      },
      "source": [
        "##Exercicio 2 (4 pontos):\n",
        "\n",
        "Implemente o Exercício 1 em Java (Hash table)"
      ]
    }
  ],
  "metadata": {
    "colab": {
      "provenance": []
    },
    "kernelspec": {
      "display_name": "Python 3",
      "name": "python3"
    },
    "language_info": {
      "codemirror_mode": {
        "name": "ipython",
        "version": 3
      },
      "file_extension": ".py",
      "mimetype": "text/x-python",
      "name": "python",
      "nbconvert_exporter": "python",
      "pygments_lexer": "ipython3",
      "version": "3.12.1"
    }
  },
  "nbformat": 4,
  "nbformat_minor": 0
}
