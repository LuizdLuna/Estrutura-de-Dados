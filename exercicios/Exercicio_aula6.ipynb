{
  "cells": [
    {
      "cell_type": "markdown",
      "metadata": {
        "id": "PwbWNioOIspb"
      },
      "source": [
        "#Nome:"
      ]
    },
    {
      "cell_type": "markdown",
      "metadata": {
        "id": "fRwAhDi5IXM-"
      },
      "source": [
        "#Exercicio 1 (em Python):\n",
        "\n",
        "Busca sequencial: Copie o codigo sequentialSearch e cole nesse notebook.\n",
        "\n",
        "Utilize esta lista --> Lista_exercicio = [0, 3, 5, 9, 14, 17, 21, 33, 39]\n",
        "\n"
      ]
    },
    {
      "cell_type": "markdown",
      "metadata": {
        "id": "h6jxvgvuaAVt"
      },
      "source": [
        "Chame a função pra procurar o numero 15 e imprimir o resultado. Pergunta 1: O número foi encontrado?\n",
        "\n",
        "Chame a função pra procurar o numero 39 e imprimir o resultado. Pergunta 2: O número foi encontrado?\n",
        "\n",
        "Pergunta 3: Como é feito a procura dos itens numa \"busca sequencial\" (assume-se uma lista ordenada)?\n",
        "Resposta: A busca sequencial percorre a lista elemento por elemento, do início ao fim, comparando cada item com o valor procurado. Se encontrar, retorna verdadeiro; se chegar ao final da lista sem encontrar, retorna falso. Mesmo em listas ordenadas, ela ainda verifica item por item sem \"pular\" partes da lista."
      ]
    },
    {
      "cell_type": "code",
      "execution_count": 4,
      "metadata": {
        "id": "v4SyBLAFS9ps"
      },
      "outputs": [
        {
          "name": "stdout",
          "output_type": "stream",
          "text": [
            "Número 15 encontrado? False\n",
            "Número 39 encontrado? True\n"
          ]
        }
      ],
      "source": [
        "def sequentialSearch(lista, item):\n",
        "    for i in range(len(lista)):\n",
        "        if lista[i] == item:\n",
        "            return True\n",
        "    return False\n",
        "\n",
        "Lista_exercicio = [0, 3, 5, 9, 14, 17, 21, 33, 39]\n",
        "\n",
        "resultado_15 = sequentialSearch(Lista_exercicio, 15)\n",
        "print(\"Número 15 encontrado?\", resultado_15)\n",
        "\n",
        "resultado_39 = sequentialSearch(Lista_exercicio, 39)\n",
        "print(\"Número 39 encontrado?\", resultado_39)\n"
      ]
    },
    {
      "cell_type": "markdown",
      "metadata": {
        "id": "1HyTKndvRLmK"
      },
      "source": [
        "#Exercicio 2 (em Python):\n",
        "\n",
        "Busca binária: Copie o codigo binarySearch e cole nesse notebook.\n",
        "\n",
        "Utilize esta lista --> Lista_exercicio = [0, 3, 5, 9, 14, 17, 21, 33, 39]"
      ]
    },
    {
      "cell_type": "markdown",
      "metadata": {
        "id": "p_NmNX5raCVv"
      },
      "source": [
        "Chame a função pra procurar o numero 15 e imprimir o resultado. Pergunta 1: O número foi encontrado?\n",
        "\n",
        "Chame a função pra procurar o numero 39 e imprimir o resultado. Pergunta 2: O número foi encontrado?\n",
        "\n",
        "Pergunta 3: Como é feito a procura dos itens numa \"busca binária\" (assume-se uma lista ordenada)?\n",
        "Resposta: A busca binária só funciona em listas ordenadas. Ela começa comparando o item com o elemento do meio da lista: se for igual, o item foi encontrado; se o item for menor, a busca continua apenas na metade esquerda; se for maior, continua na metade direita. Esse processo se repete até encontrar o item ou até a lista se esgotar."
      ]
    },
    {
      "cell_type": "code",
      "execution_count": 7,
      "metadata": {
        "id": "v8ppz9LcQM4C"
      },
      "outputs": [
        {
          "name": "stdout",
          "output_type": "stream",
          "text": [
            "Número 15 encontrado? False\n",
            "Número 39 encontrado? True\n"
          ]
        }
      ],
      "source": [
        "def binarySearch(lista, item):\n",
        "    inicio = 0\n",
        "    fim = len(lista) - 1\n",
        "\n",
        "    while inicio <= fim:\n",
        "        meio = (inicio + fim) // 2\n",
        "\n",
        "        if lista[meio] == item:\n",
        "            return True\n",
        "        elif item < lista[meio]:\n",
        "            fim = meio - 1\n",
        "        else:\n",
        "            inicio = meio + 1\n",
        "\n",
        "    return False\n",
        "\n",
        "Lista_exercicio = [0, 3, 5, 9, 14, 17, 21, 33, 39]\n",
        "\n",
        "resultado_15 = binarySearch(Lista_exercicio, 15)\n",
        "print(\"Número 15 encontrado?\", resultado_15)\n",
        "\n",
        "resultado_39 = binarySearch(Lista_exercicio, 39)\n",
        "print(\"Número 39 encontrado?\", resultado_39)\n"
      ]
    },
    {
      "cell_type": "markdown",
      "metadata": {
        "id": "I4cPNinBGosY"
      },
      "source": [
        "# Exercício 3 (em Java)\n",
        "Implemente o Exercício 1 em Java (Busca Sequêncial)\n",
        "\n",
        "# Exercício 4 (em Java)\n",
        "Implemente o Exercício 2 em Java (Busca Binária)"
      ]
    }
  ],
  "metadata": {
    "colab": {
      "provenance": []
    },
    "kernelspec": {
      "display_name": "Python 3",
      "name": "python3"
    },
    "language_info": {
      "codemirror_mode": {
        "name": "ipython",
        "version": 3
      },
      "file_extension": ".py",
      "mimetype": "text/x-python",
      "name": "python",
      "nbconvert_exporter": "python",
      "pygments_lexer": "ipython3",
      "version": "3.12.1"
    }
  },
  "nbformat": 4,
  "nbformat_minor": 0
}
