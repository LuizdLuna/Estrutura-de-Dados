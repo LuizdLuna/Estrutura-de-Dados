{
  "nbformat": 4,
  "nbformat_minor": 0,
  "metadata": {
    "colab": {
      "provenance": []
    },
    "kernelspec": {
      "name": "python3",
      "display_name": "Python 3"
    },
    "language_info": {
      "name": "python"
    }
  },
  "cells": [
    {
      "cell_type": "markdown",
      "source": [
        "#Nome:"
      ],
      "metadata": {
        "id": "PwbWNioOIspb"
      }
    },
    {
      "cell_type": "markdown",
      "source": [
        "##Exercicio 1 em Python (6 pontos):\n",
        "\n",
        "Hashing: Copie o codigo class HashTable e cole nesse notebook.\n",
        "\n",
        "Crie a classe e insira os seguintes valores -->\n",
        "\n",
        "####hash_table[54] = \"capivara\"\n",
        "####hash_table[26] = \"cachorro\"\n",
        "####hash_table[93] = \"lontra\"\n",
        "####hash_table[17] = \"tigre\"\n",
        "####hash_table[77] = \"Aguia\"\n",
        "####hash_table[31] = \"peixe\"\n",
        "####hash_table[44] = \"zebra\"\n",
        "####hash_table[55] = \"Leopardo\"\n",
        "\n",
        "Em seguida recuperar os valores --> 54,17,93 e 44.\n",
        "\n",
        "E atualize o valor existente em 44 para um animal da sua escolha.\n",
        "\n",
        "Pergunta: Qual é o metodo utilizado no codigo class HashTable que resolve o problema das colisões? E qual problema surge devido ao uso desse método?\n",
        "\n"
      ],
      "metadata": {
        "id": "dTIrg2PwnasI"
      }
    },
    {
      "cell_type": "code",
      "execution_count": null,
      "metadata": {
        "id": "g275SDnh8PLr"
      },
      "outputs": [],
      "source": [
        " # codigo\n"
      ]
    },
    {
      "cell_type": "markdown",
      "source": [
        "##Exercicio 2 (4 pontos):\n",
        "\n",
        "Implemente o Exercício 1 em Java (Hash table)"
      ],
      "metadata": {
        "id": "MEVE9C18FD8n"
      }
    }
  ]
}