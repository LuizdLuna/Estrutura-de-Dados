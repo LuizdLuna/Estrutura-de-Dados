{
  "nbformat": 4,
  "nbformat_minor": 0,
  "metadata": {
    "colab": {
      "provenance": []
    },
    "kernelspec": {
      "name": "python3",
      "display_name": "Python 3"
    },
    "language_info": {
      "name": "python"
    }
  },
  "cells": [
    {
      "cell_type": "markdown",
      "source": [
        "# Implementação da TAD Lista Posicional (em Python)\n",
        "\n",
        "A implementação da TAD **Lista Posicional** é composta por três classes principais: `PositionalList`, `_Node`, e `Position`. Vamos explicar cada uma delas e seus métodos.\n",
        "\n",
        "## Classe `_Node`\n",
        "A classe `_Node` é uma classe leve e interna (não pública) usada para representar um nó em uma lista duplamente encadeada. Cada nó armazena três informações:\n",
        "\n",
        "- **`_element`**: O valor do elemento que o nó contém.\n",
        "- **`_prev`**: Referência para o nó anterior.\n",
        "- **`_next`**: Referência para o próximo nó.\n",
        "\n",
        "### Métodos da classe `_Node`:\n",
        "- **`__init__(self, element, prev, next)`**: Construtor que inicializa o nó com o elemento e suas referências para o nó anterior e o próximo.\n",
        "\n",
        "## Classe `Position`\n",
        "A classe `Position` é uma abstração que representa a localização de um único elemento dentro da lista. Isso permite que você acesse o elemento de uma posição sem expor diretamente a estrutura interna da lista.\n",
        "\n",
        "### Métodos da classe `Position`:\n",
        "- **`__init__(self, container, node)`**: Inicializa a posição com um contêiner e um nó. O contêiner é a própria lista posicional, e o nó é a posição associada.\n",
        "- **`element(self)`**: Retorna o elemento armazenado na posição atual.\n",
        "- **`__eq__(self, other)`**: Verifica se a posição atual é igual a outra posição.\n",
        "- **`__ne__(self, other)`**: Verifica se a posição atual é diferente de outra posição.\n",
        "\n",
        "## Classe `PositionalList`\n",
        "Esta é a classe principal que define a estrutura de dados **Lista Posicional**, que permite manipular os elementos em posições específicas da lista.\n",
        "\n",
        "### Atributos:\n",
        "- **`_header`**: Um nó sentinela que marca o início da lista (não contém nenhum elemento).\n",
        "- **`_trailer`**: Um nó sentinela que marca o final da lista (também não contém elementos).\n",
        "- **`_size`**: Mantém o controle do tamanho da lista, ou seja, o número de elementos armazenados.\n",
        "\n",
        "### Métodos da classe `PositionalList`:\n",
        "\n",
        "- **`__init__(self)`**: Construtor que inicializa a lista vazia, criando os nós sentinelas `_header` e `_trailer` e conectando-os.\n",
        "  \n",
        "- **`_insert_between(self, element, predecessor, successor)`**: Método auxiliar que insere um novo nó entre dois nós existentes (predecessor e sucessor). Retorna a nova posição criada.\n",
        "\n",
        "- **`_validate(self, p)`**: Método auxiliar que valida se `p` é uma posição válida na lista. Se a posição for inválida, lança um erro apropriado.\n",
        "\n",
        "- **`__len__(self)`**: Retorna o número de elementos na lista.\n",
        "\n",
        "- **`is_empty(self)`**: Retorna `True` se a lista estiver vazia, `False` caso contrário.\n",
        "\n",
        "- **`first(self)`**: Retorna a primeira posição da lista (ou `None` se a lista estiver vazia).\n",
        "\n",
        "- **`last(self)`**: Retorna a última posição da lista (ou `None` se a lista estiver vazia).\n",
        "\n",
        "- **`before(self, p)`**: Retorna a posição imediatamente antes da posição `p` (ou `None` se `p` for a primeira posição).\n",
        "\n",
        "- **`after(self, p)`**: Retorna a posição imediatamente após a posição `p` (ou `None` se `p` for a última posição).\n",
        "\n",
        "- **`_make_position(self, node)`**: Método auxiliar que retorna uma instância de `Position` para o nó fornecido. Retorna `None` se o nó for um nó sentinela.\n",
        "\n",
        "- **`add_first(self, element)`**: Insere um elemento na frente da lista e retorna a nova posição.\n",
        "\n",
        "- **`add_last(self, element)`**: Insere um elemento no final da lista e retorna a nova posição.\n",
        "\n",
        "- **`add_before(self, p, element)`**: Insere um elemento antes da posição `p` e retorna a nova posição.\n",
        "\n",
        "- **`add_after(self, p, element)`**: Insere um elemento após a posição `p` e retorna a nova posição.\n",
        "\n",
        "- **`delete(self, p)`**: Remove e retorna o elemento na posição `p`. Também ajusta as referências do nó anterior e do nó seguinte.\n",
        "\n",
        "- **`replace(self, p, element)`**: Substitui o elemento na posição `p` por um novo elemento e retorna o elemento antigo.\n",
        "\n",
        "---\n",
        "\n",
        "## Resumo:\n",
        "\n",
        "- **`PositionalList`**: É a lista que permite que você insira, remova e acesse elementos em posições específicas.\n",
        "- **`Position`**: Representa uma abstração da posição de um elemento na lista.\n",
        "- **`_Node`**: Representa um nó duplamente encadeado que armazena um elemento, juntamente com referências para o nó anterior e o próximo.\n",
        "\n",
        "Esta estrutura permite maior flexibilidade para manipular elementos em posições específicas e é usada em várias aplicações que requerem controle preciso sobre a ordem e a localização dos elementos em uma lista.\n"
      ],
      "metadata": {
        "id": "0we1GszEk4Bt"
      }
    },
    {
      "cell_type": "code",
      "execution_count": null,
      "metadata": {
        "id": "mLwXBqyGkzBV"
      },
      "outputs": [],
      "source": [
        "class PositionalList:\n",
        "    \"\"\"Um container sequencial de elementos permitindo acesso posicional.\"\"\"\n",
        "\n",
        "    class _Node:\n",
        "        \"\"\"Classe leve e não pública para armazenar um nó duplamente encadeado.\"\"\"\n",
        "        __slots__ = '_element', '_prev', '_next'\n",
        "\n",
        "        def __init__(self, element, prev, next):\n",
        "            self._element = element\n",
        "            self._prev = prev\n",
        "            self._next = next\n",
        "\n",
        "    class Position:\n",
        "        \"\"\"Uma abstração que representa a localização de um único elemento.\"\"\"\n",
        "        def __init__(self, container, node):\n",
        "            self._container = container\n",
        "            self._node = node\n",
        "\n",
        "        def element(self):\n",
        "            \"\"\"Retorna o elemento armazenado nesta Posição.\"\"\"\n",
        "            return self._node._element\n",
        "\n",
        "        def __eq__(self, other):\n",
        "            \"\"\"Retorna True se outro for uma Posição representando a mesma localização.\"\"\"\n",
        "            return type(other) is type(self) and other._node is self._node\n",
        "\n",
        "        def __ne__(self, other):\n",
        "            \"\"\"Retorna True se outro não representar a mesma localização.\"\"\"\n",
        "            return not (self == other)\n",
        "\n",
        "    def __init__(self):\n",
        "        \"\"\"Cria uma lista vazia.\"\"\"\n",
        "        self._header = self._Node(None, None, None)\n",
        "        self._trailer = self._Node(None, None, None)\n",
        "        self._header._next = self._trailer\n",
        "        self._trailer._prev = self._header\n",
        "        self._size = 0\n",
        "\n",
        "    def _insert_between(self, element, predecessor, successor):\n",
        "        \"\"\"Adiciona um elemento entre dois nós existentes e retorna o novo nó.\"\"\"\n",
        "        node = self._Node(element, predecessor, successor)\n",
        "        predecessor._next = node\n",
        "        successor._prev = node\n",
        "        self._size += 1\n",
        "        return self.Position(self, node)\n",
        "\n",
        "    def _validate(self, p):\n",
        "        \"\"\"Retorna o nó da posição ou gera um erro apropriado se for inválido.\"\"\"\n",
        "        if not isinstance(p, self.Position):\n",
        "            raise ValueError('p deve ser do tipo Position')\n",
        "        if p._container is not self:\n",
        "            raise ValueError('p não pertence a este container')\n",
        "        if p._node._next is None:  # convenção para nós obsoletos\n",
        "            raise ValueError('p não é mais válido')\n",
        "        return p._node\n",
        "\n",
        "    def __len__(self):\n",
        "        \"\"\"Retorna o número de elementos na lista.\"\"\"\n",
        "        return self._size\n",
        "\n",
        "    def is_empty(self):\n",
        "        \"\"\"Retorna True se a lista estiver vazia.\"\"\"\n",
        "        return self._size == 0\n",
        "\n",
        "    def first(self):\n",
        "        \"\"\"Retorna a primeira Posição na lista (ou None se a lista estiver vazia).\"\"\"\n",
        "        return self._make_position(self._header._next)\n",
        "\n",
        "    def last(self):\n",
        "        \"\"\"Retorna a última Posição na lista (ou None se a lista estiver vazia).\"\"\"\n",
        "        return self._make_position(self._trailer._prev)\n",
        "\n",
        "    def before(self, p):\n",
        "        \"\"\"Retorna a Posição imediatamente antes da Posição p (ou None se p for a primeira).\"\"\"\n",
        "        node = self._validate(p)\n",
        "        return self._make_position(node._prev)\n",
        "\n",
        "    def after(self, p):\n",
        "        \"\"\"Retorna a Posição imediatamente após a Posição p (ou None se p for a última).\"\"\"\n",
        "        node = self._validate(p)\n",
        "        return self._make_position(node._next)\n",
        "\n",
        "    def _make_position(self, node):\n",
        "        \"\"\"Retorna uma instância de Posição para o nó fornecido (ou None se for um nó sentinela).\"\"\"\n",
        "        if node is self._header or node is self._trailer:\n",
        "            return None  # violação de limite\n",
        "        else:\n",
        "            return self.Position(self, node)\n",
        "\n",
        "    def add_first(self, element):\n",
        "        \"\"\"Insere um elemento na frente da lista e retorna a nova Posição.\"\"\"\n",
        "        return self._insert_between(element, self._header, self._header._next)\n",
        "\n",
        "    def add_last(self, element):\n",
        "        \"\"\"Insere um elemento no final da lista e retorna a nova Posição.\"\"\"\n",
        "        return self._insert_between(element, self._trailer._prev, self._trailer)\n",
        "\n",
        "    def add_before(self, p, element):\n",
        "        \"\"\"Insere um elemento na lista antes da Posição p e retorna a nova Posição.\"\"\"\n",
        "        original = self._validate(p)\n",
        "        return self._insert_between(element, original._prev, original)\n",
        "\n",
        "    def add_after(self, p, element):\n",
        "        \"\"\"Insere um elemento na lista após a Posição p e retorna a nova Posição.\"\"\"\n",
        "        original = self._validate(p)\n",
        "        return self._insert_between(element, original, original._next)\n",
        "\n",
        "    def delete(self, p):\n",
        "        \"\"\"Remove e retorna o elemento na Posição p.\"\"\"\n",
        "        original = self._validate(p)\n",
        "        element = original._element\n",
        "        original._prev._next = original._next\n",
        "        original._next._prev = original._prev\n",
        "        self._size -= 1\n",
        "        original._prev = original._next = original._element = None  # inutiliza o nó\n",
        "        return element\n",
        "\n",
        "    def replace(self, p, element):\n",
        "        \"\"\"Substitui o elemento na Posição p por um novo elemento e retorna o antigo elemento.\"\"\"\n",
        "        original = self._validate(p)\n",
        "        old_value = original._element\n",
        "        original._element = element\n",
        "        return old_value\n"
      ]
    },
    {
      "cell_type": "markdown",
      "source": [
        "Testando!!!"
      ],
      "metadata": {
        "id": "ik2MErQnlVhp"
      }
    },
    {
      "cell_type": "code",
      "source": [
        "# Criando uma lista posicional\n",
        "pl = PositionalList()"
      ],
      "metadata": {
        "id": "8POEZoVClW1K"
      },
      "execution_count": null,
      "outputs": []
    },
    {
      "cell_type": "code",
      "source": [
        "# Adicionando elementos no início e no fim\n",
        "pos1 = pl.add_first(10)\n",
        "pos2 = pl.add_last(20)\n",
        "pos3 = pl.add_last(30)"
      ],
      "metadata": {
        "id": "dqGnmu2XlYYz"
      },
      "execution_count": null,
      "outputs": []
    },
    {
      "cell_type": "code",
      "source": [
        "# Navegando pela lista\n",
        "print(\"Primeiro elemento:\", pl.first().element())  # Saída: 10\n",
        "print(\"Último elemento:\", pl.last().element())    # Saída: 30"
      ],
      "metadata": {
        "colab": {
          "base_uri": "https://localhost:8080/"
        },
        "id": "D9TnBt7WlbID",
        "outputId": "0bc1f2a3-a8cc-42e7-efb7-75ac5221af9e"
      },
      "execution_count": null,
      "outputs": [
        {
          "output_type": "stream",
          "name": "stdout",
          "text": [
            "Primeiro elemento: 10\n",
            "Último elemento: 30\n"
          ]
        }
      ]
    },
    {
      "cell_type": "code",
      "source": [
        "# Inserindo elementos antes e depois de um determinado elemento\n",
        "pos4 = pl.add_before(pos3, 25)  # Insere 25 antes de 30\n",
        "pos5 = pl.add_after(pos1, 15)   # Insere 15 depois de 10"
      ],
      "metadata": {
        "id": "rCPufOODlbql"
      },
      "execution_count": null,
      "outputs": []
    },
    {
      "cell_type": "code",
      "source": [
        "# Navegando entre os elementos\n",
        "print(\"Elemento antes de 25:\", pl.before(pos4).element())  # Saída: 20\n",
        "print(\"Elemento depois de 15:\", pl.after(pos5).element())  # Saída: 20"
      ],
      "metadata": {
        "colab": {
          "base_uri": "https://localhost:8080/"
        },
        "id": "mw_NiVLIleg2",
        "outputId": "c3112dce-bb3e-4575-f47b-b94d1fef9da1"
      },
      "execution_count": null,
      "outputs": [
        {
          "output_type": "stream",
          "name": "stdout",
          "text": [
            "Elemento antes de 25: 20\n",
            "Elemento depois de 15: 20\n"
          ]
        }
      ]
    },
    {
      "cell_type": "code",
      "source": [
        "# Substituindo um elemento\n",
        "pl.replace(pos2, 22)  # Substitui 20 por 22\n",
        "print(\"Elemento na posição do antigo 20:\", pos2.element())  # Saída: 22"
      ],
      "metadata": {
        "colab": {
          "base_uri": "https://localhost:8080/"
        },
        "id": "hy0yjuWOlf9H",
        "outputId": "5ecb681f-95f4-4e72-c9f2-f93905b1ef11"
      },
      "execution_count": null,
      "outputs": [
        {
          "output_type": "stream",
          "name": "stdout",
          "text": [
            "Elemento na posição do antigo 20: 22\n"
          ]
        }
      ]
    },
    {
      "cell_type": "code",
      "source": [
        "# Deletando um elemento\n",
        "pl.delete(pos4)  # Remove o 25\n",
        "print(\"Último elemento após remover 25:\", pl.last().element())  # Saída: 30"
      ],
      "metadata": {
        "colab": {
          "base_uri": "https://localhost:8080/"
        },
        "id": "WgWXImvAlhSe",
        "outputId": "fc5e8a6f-50f3-42b4-8fa3-942f0b2eac24"
      },
      "execution_count": null,
      "outputs": [
        {
          "output_type": "stream",
          "name": "stdout",
          "text": [
            "Último elemento após remover 25: 30\n"
          ]
        }
      ]
    }
  ]
}