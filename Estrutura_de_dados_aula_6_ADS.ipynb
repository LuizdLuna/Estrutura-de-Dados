{
  "nbformat": 4,
  "nbformat_minor": 0,
  "metadata": {
    "colab": {
      "provenance": []
    },
    "kernelspec": {
      "name": "python3",
      "display_name": "Python 3"
    },
    "language_info": {
      "name": "python"
    }
  },
  "cells": [
    {
      "cell_type": "markdown",
      "source": [
        "#Recursão\n",
        "\n",
        "Vamos estudar usando Python aqui! --> https://panda.ime.usp.br/panda/static/pythonds_pt/04-Recursao/02-somatoria.html\n",
        "\n",
        "\n",
        "Em java - Soma Lista Recursiva\n",
        "```java\n",
        "public class SomaListaRecursiva {\n",
        "\n",
        "    // Método recursivo que soma todos os elementos do array\n",
        "    public static int somaLista(int[] numeros) {\n",
        "        // Caso base: se só há um elemento no array, retorne-o\n",
        "        if (numeros.length == 1) {\n",
        "            return numeros[0];\n",
        "        } else {\n",
        "            // Cria um novo array a partir do segundo elemento em diante\n",
        "            int[] restante = new int[numeros.length - 1];\n",
        "            System.arraycopy(numeros, 1, restante, 0, numeros.length - 1);\n",
        "            \n",
        "            // Retorna o primeiro elemento + soma do restante do array\n",
        "            return numeros[0] + somaLista(restante);\n",
        "        }\n",
        "    }\n",
        "\n",
        "    public static void main(String[] args) {\n",
        "        int[] numeros = {1, 3, 5, 7, 9};\n",
        "        System.out.println(somaLista(numeros)); // Deve imprimir 25\n",
        "    }\n",
        "}\n",
        "\n",
        "```\n",
        "\n",
        "1. **`public class SomaListaRecursiva {`**  \n",
        "   Declaração de uma classe chamada **SomaListaRecursiva**. Todo o código que segue será definido dentro desta classe.\n",
        "\n",
        "2. **` Método recursivo que soma todos os elementos do array`**  \n",
        "   Comentário que explica o propósito do método `somaLista`. Ele é **recursivo**, ou seja, chama a si mesmo para calcular a soma de todos os elementos do array.\n",
        "\n",
        "3. **`public static int somaLista(int[] numeros) {`**  \n",
        "   Declaração do método `somaLista`. Ele recebe um *array de inteiros* como parâmetro e retorna um valor inteiro. O modificador `static` indica que esse método pode ser chamado sem precisar criar uma instância da classe.\n",
        "\n",
        "4. **`Caso base: se só há um elemento no array, retorne-o`**  \n",
        "   Comentário descrevendo a condição de *caso base* para a recursão.\n",
        "\n",
        "5. **`if (numeros.length == 1) {`**  \n",
        "   Verifica se o array tem apenas um elemento.\n",
        "\n",
        "6. **`return numeros[0];`**  \n",
        "   Se houver só um elemento, retorna esse valor.\n",
        "\n",
        "7. **`else {`**  \n",
        "   Indica que, se o array tiver mais de um elemento, a recursão continuará.\n",
        "\n",
        "8. **` Cria um novo array a partir do segundo elemento em diante`**  \n",
        "   Comentário sobre a criação de um array menor que exclui o primeiro elemento.\n",
        "\n",
        "9. **`int[] restante = new int[numeros.length - 1];`**  \n",
        "   Cria um novo array de inteiros com comprimento igual ao do array original menos 1.\n",
        "\n",
        "10. **`System.arraycopy(numeros, 1, restante, 0, numeros.length - 1);`**  \n",
        "    Copia, do array original, os elementos a partir do segundo (índice 1) para o novo array `restante`.\n",
        "\n",
        "11. **`Retorna o primeiro elemento + soma do restante do array`**  \n",
        "    Comentário descrevendo que o retorno será a soma do primeiro elemento com a soma recursiva dos demais elementos.\n",
        "\n",
        "12. **`return numeros[0] + somaLista(restante);`**  \n",
        "    Retorna o primeiro elemento do array mais o resultado da chamada recursiva em `restante`.\n",
        "\n",
        "13. **`public static void main(String[] args) {`**  \n",
        "    Declaração do método `main`, que é o ponto de entrada padrão para a execução de uma aplicação Java.\n",
        "\n",
        "14. **`int[] numeros = {1, 3, 5, 7, 9};`**  \n",
        "    Cria um array de inteiros chamado `numeros` com os valores `1, 3, 5, 7, 9`.\n",
        "\n",
        "15. **`System.out.println(somaLista(numeros)); // Deve imprimir 25`**  \n",
        "    Chama o método `somaLista` passando o array `numeros` como parâmetro e imprime o resultado no console. Como a soma de `1 + 3 + 5 + 7 + 9` é **25**, é esse valor que será exibido.\n",
        "\n"
      ],
      "metadata": {
        "id": "gb8UgPwh8Zmj"
      }
    },
    {
      "cell_type": "markdown",
      "source": [
        "Em Java - Função Fatorial recursiva\n",
        "\n",
        "```java\n",
        "public class FactorialTest {\n",
        "\n",
        "    /**\n",
        "     * Calcula o fatorial de n recursivamente.\n",
        "     *\n",
        "     * @param n inteiro não negativo\n",
        "     * @return fatorial de n\n",
        "     * @throws IllegalArgumentException se n for negativo\n",
        "     */\n",
        "    public static int factorial(int n) throws IllegalArgumentException {\n",
        "        if (n < 0) {\n",
        "            throw new IllegalArgumentException(\"O argumento deve ser não negativo.\");\n",
        "        }\n",
        "        else if (n == 0) {\n",
        "            return 1;  // caso base\n",
        "        }\n",
        "        else {\n",
        "            return n * factorial(n - 1); // caso recursivo\n",
        "        }\n",
        "    }\n",
        "    \n",
        "    /**\n",
        "     * Método principal para testar a função factorial.\n",
        "     */\n",
        "    public static void main(String[] args) {\n",
        "        // Teste 1: Fatorial de 5\n",
        "        int n1 = 5;\n",
        "        int resultado1 = factorial(n1);\n",
        "        System.out.println(\"factorial(\" + n1 + \") = \" + resultado1);\n",
        "        \n",
        "        // Teste 2: Fatorial de 0 (caso base)\n",
        "        int n2 = 0;\n",
        "        int resultado2 = factorial(n2);\n",
        "        System.out.println(\"factorial(\" + n2 + \") = \" + resultado2);\n",
        "    }\n",
        "}\n",
        "```\n",
        "\n",
        "\n"
      ],
      "metadata": {
        "id": "M8hQP4Z7m3ip"
      }
    },
    {
      "cell_type": "markdown",
      "source": [
        "#Busca\n",
        "\n",
        "\n",
        "Busca sequencial:"
      ],
      "metadata": {
        "id": "fRwAhDi5IXM-"
      }
    },
    {
      "cell_type": "code",
      "source": [
        "# Define a função sequentialSearch que recebe uma lista (alist) e um item a ser procurado\n",
        "def sequentialSearch(alist, item):\n",
        "    # Inicializa a posição (pos) em 0\n",
        "    pos = 0\n",
        "    # Inicializa a variável found (encontrado) como False\n",
        "    found = False\n",
        "\n",
        "    # Executa o loop enquanto pos for menor que o tamanho da lista e found for False\n",
        "    while pos < len(alist) and not found:\n",
        "        # Verifica se o item na posição atual da lista é igual ao item procurado\n",
        "        if alist[pos] == item:\n",
        "            # Se o item for encontrado, atualiza found para True\n",
        "            found = True\n",
        "        else:\n",
        "            # Se o item não for encontrado, incrementa pos para verificar o próximo item\n",
        "            pos = pos + 1\n",
        "\n",
        "    # Retorna o valor de found, indicando se o item foi encontrado ou não\n",
        "    return found"
      ],
      "metadata": {
        "id": "TE5DQW1rH1AM"
      },
      "execution_count": null,
      "outputs": []
    },
    {
      "cell_type": "markdown",
      "source": [
        "Testando!"
      ],
      "metadata": {
        "id": "h6jxvgvuaAVt"
      }
    },
    {
      "cell_type": "code",
      "source": [
        "# Cria uma lista de teste chamada testlist\n",
        "testlist = [1, 2, 32, 8, 17, 19, 42, 13, 0]"
      ],
      "metadata": {
        "id": "nxTJDQhxZQYD"
      },
      "execution_count": null,
      "outputs": []
    },
    {
      "cell_type": "code",
      "source": [
        "# Chama a função sequentialSearch para procurar o número 3 na testlist e imprime o resultado\n",
        "print(sequentialSearch(testlist, 3))  # Saída: False"
      ],
      "metadata": {
        "colab": {
          "base_uri": "https://localhost:8080/"
        },
        "id": "IjxPMDpIZUfE",
        "outputId": "4759ecd3-0027-442d-a35c-4fae4e7e667c"
      },
      "execution_count": null,
      "outputs": [
        {
          "output_type": "stream",
          "name": "stdout",
          "text": [
            "False\n"
          ]
        }
      ]
    },
    {
      "cell_type": "code",
      "source": [
        "# Chama a função sequentialSearch para procurar o número 13 na testlist e imprime o resultado\n",
        "print(sequentialSearch(testlist, 13))  # Saída: True"
      ],
      "metadata": {
        "colab": {
          "base_uri": "https://localhost:8080/"
        },
        "id": "mTxCJv_-ZXOH",
        "outputId": "c7614bc2-dcb3-4ea0-8805-0e31e0b7c71b"
      },
      "execution_count": null,
      "outputs": [
        {
          "output_type": "stream",
          "name": "stdout",
          "text": [
            "True\n"
          ]
        }
      ]
    },
    {
      "cell_type": "markdown",
      "source": [
        "####Busca Sequencial (Linear Search) - Conceitos\n",
        "####Algoritmo: Percorre a lista elemento por elemento, do início ao fim, até encontrar o item procurado ou até que todos os elementos tenham sido verificados.\n",
        "\n",
        "\n",
        "#####Complexidade Temporal: O pior caso é O(n), onde n é o número de elementos na lista. Isso ocorre quando o item procurado está no final da lista ou não está presente.\n",
        "\n",
        "\n",
        "#####Requisitos da Lista: Não exige que a lista esteja ordenada. Pode ser aplicada a qualquer lista, ordenada ou não.\n",
        "\n",
        "\n",
        "#####Uso: Simples de implementar e útil para listas pequenas ou quando a lista não está ordenada.\n",
        "\n",
        "Eficiência: Menos eficiente para listas grandes, especialmente se o item procurado estiver no final da lista ou não estiver presente."
      ],
      "metadata": {
        "id": "1HyTKndvRLmK"
      }
    },
    {
      "cell_type": "markdown",
      "source": [
        "#Busca binaria"
      ],
      "metadata": {
        "id": "simeCc2WP-7s"
      }
    },
    {
      "cell_type": "code",
      "source": [
        "# Define a função binarySearch que recebe uma lista (alist) e um item a ser procurado\n",
        "def binarySearch(alist, item):\n",
        "    # Inicializa a variável first com 0 (primeira posição da lista)\n",
        "    first = 0\n",
        "    # Inicializa a variável last com o índice da última posição da lista\n",
        "    last = len(alist) - 1\n",
        "    # Inicializa a variável found como False (indica se o item foi encontrado ou não)\n",
        "    found = False\n",
        "\n",
        "    # Executa o loop enquanto first for menor ou igual a last e found for False\n",
        "    while first <= last and not found:\n",
        "        # Calcula o ponto médio da lista\n",
        "        midpoint = (first + last) // 2\n",
        "        # Verifica se o item na posição midpoint é igual ao item procurado\n",
        "        if alist[midpoint] == item:\n",
        "            # Se o item for encontrado, atualiza found para True\n",
        "            found = True\n",
        "        else:\n",
        "            # Se o item procurado for menor que o item no ponto médio\n",
        "            if item < alist[midpoint]:\n",
        "                # Atualiza last para a posição anterior ao ponto médio\n",
        "                last = midpoint - 1\n",
        "            else:\n",
        "                # Se o item procurado for maior que o item no ponto médio\n",
        "                # Atualiza first para a posição seguinte ao ponto médio\n",
        "                first = midpoint + 1\n",
        "\n",
        "    # Retorna o valor de found, indicando se o item foi encontrado ou não\n",
        "    return found\n",
        "\n",
        "\n"
      ],
      "metadata": {
        "id": "gR16VPbuP-Lx"
      },
      "execution_count": null,
      "outputs": []
    },
    {
      "cell_type": "markdown",
      "source": [
        "Testando!"
      ],
      "metadata": {
        "id": "p_NmNX5raCVv"
      }
    },
    {
      "cell_type": "code",
      "source": [
        "# Cria uma lista de teste chamada testlist (a lista deve estar ordenada para a busca binária)\n",
        "testlist = [0, 1, 2, 8, 13, 17, 19, 32, 42]"
      ],
      "metadata": {
        "id": "Vwd-uSzkQ0FX"
      },
      "execution_count": null,
      "outputs": []
    },
    {
      "cell_type": "code",
      "source": [
        "# Chama a função binarySearch para procurar o número 3 na testlist e imprime o resultado\n",
        "print(binarySearch(testlist, 3))  # Saída: False\n",
        "\n"
      ],
      "metadata": {
        "colab": {
          "base_uri": "https://localhost:8080/"
        },
        "id": "9o6LciWiQLiI",
        "outputId": "46d7884e-e4d3-4360-9a5e-e9d57541e2bc"
      },
      "execution_count": null,
      "outputs": [
        {
          "output_type": "stream",
          "name": "stdout",
          "text": [
            "False\n"
          ]
        }
      ]
    },
    {
      "cell_type": "code",
      "source": [
        "# Chama a função binarySearch para procurar o número 13 na testlist e imprime o resultado\n",
        "print(binarySearch(testlist, 13))  # Saída: True\n",
        "\n"
      ],
      "metadata": {
        "colab": {
          "base_uri": "https://localhost:8080/"
        },
        "id": "v8ppz9LcQM4C",
        "outputId": "520afc08-3ffa-4005-9b15-8441a017188f"
      },
      "execution_count": null,
      "outputs": [
        {
          "output_type": "stream",
          "name": "stdout",
          "text": [
            "True\n"
          ]
        }
      ]
    },
    {
      "cell_type": "markdown",
      "source": [
        "####Busca Binária (Binary Search) - Conceitos\n",
        "\n",
        "####Algoritmo: Divide repetidamente a lista ao meio para reduzir a área de busca. Começa verificando o elemento no meio da lista e, dependendo se o item procurado é maior ou menor que o elemento do meio, a busca continua na metade esquerda ou direita da lista.\n",
        "\n",
        "####Complexidade Temporal: O pior caso é O(log n), onde n é o número de elementos na lista. Isso se deve à divisão repetida da lista ao meio.\n",
        "\n",
        "####Requisitos da Lista: Exige que a lista esteja ordenada. Não funciona corretamente em listas desordenadas.\n",
        "\n",
        "####Uso: Mais complexa de implementar em comparação com a busca sequencial, mas é muito eficiente para listas grandes, desde que estejam ordenadas.\n",
        "\n",
        "####Eficiência: Muito mais eficiente que a busca sequencial para listas grandes devido à redução exponencial da área de busca."
      ],
      "metadata": {
        "id": "gUbsmzLNau0s"
      }
    }
  ]
}