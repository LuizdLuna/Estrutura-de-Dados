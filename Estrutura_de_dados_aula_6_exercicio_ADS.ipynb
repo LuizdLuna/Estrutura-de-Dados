{
  "nbformat": 4,
  "nbformat_minor": 0,
  "metadata": {
    "colab": {
      "provenance": []
    },
    "kernelspec": {
      "name": "python3",
      "display_name": "Python 3"
    },
    "language_info": {
      "name": "python"
    }
  },
  "cells": [
    {
      "cell_type": "markdown",
      "source": [
        "#Nome:"
      ],
      "metadata": {
        "id": "PwbWNioOIspb"
      }
    },
    {
      "cell_type": "markdown",
      "source": [
        "#Exercicio 1 (em Python):\n",
        "\n",
        "Busca sequencial: Copie o codigo sequentialSearch e cole nesse notebook.\n",
        "\n",
        "Utilize esta lista --> Lista_exercicio = [0, 3, 5, 9, 14, 17, 21, 33, 39]\n",
        "\n"
      ],
      "metadata": {
        "id": "fRwAhDi5IXM-"
      }
    },
    {
      "cell_type": "code",
      "source": [
        "# Copie a função sequentialSearch que recebe uma lista e cole aqui:\n"
      ],
      "metadata": {
        "id": "TE5DQW1rH1AM"
      },
      "execution_count": null,
      "outputs": []
    },
    {
      "cell_type": "markdown",
      "source": [
        "Chame a função pra procurar o numero 15 e imprimir o resultado. Pergunta 1: O número foi encontrado?\n",
        "\n",
        "Chame a função pra procurar o numero 39 e imprimir o resultado. Pergunta 2: O número foi encontrado?\n",
        "\n",
        "Pergunta 3: Como é feito a procura dos itens numa \"busca sequencial\" (assume-se uma lista ordenada)?"
      ],
      "metadata": {
        "id": "h6jxvgvuaAVt"
      }
    },
    {
      "cell_type": "code",
      "source": [
        "#Implemete aqui seu codigo para responder a pergunta 1 e 2"
      ],
      "metadata": {
        "id": "v4SyBLAFS9ps"
      },
      "execution_count": null,
      "outputs": []
    },
    {
      "cell_type": "markdown",
      "source": [
        "#Exercicio 2 (em Python):\n",
        "\n",
        "Busca binária: Copie o codigo binarySearch e cole nesse notebook.\n",
        "\n",
        "Utilize esta lista --> Lista_exercicio = [0, 3, 5, 9, 14, 17, 21, 33, 39]"
      ],
      "metadata": {
        "id": "1HyTKndvRLmK"
      }
    },
    {
      "cell_type": "code",
      "source": [
        "# Copie a função  a função binarySearch  que recebe uma lista e cole aqui:\n",
        "\n"
      ],
      "metadata": {
        "id": "gR16VPbuP-Lx"
      },
      "execution_count": null,
      "outputs": []
    },
    {
      "cell_type": "markdown",
      "source": [
        "Chame a função pra procurar o numero 15 e imprimir o resultado. Pergunta 1: O número foi encontrado?\n",
        "\n",
        "Chame a função pra procurar o numero 39 e imprimir o resultado. Pergunta 2: O número foi encontrado?\n",
        "\n",
        "Pergunta 3: Como é feito a procura dos itens numa \"busca binária\" (assume-se uma lista ordenada)?"
      ],
      "metadata": {
        "id": "p_NmNX5raCVv"
      }
    },
    {
      "cell_type": "code",
      "source": [
        "#Implemete aqui seu codigo para responder a pergunta 1 e 2\n",
        "\n"
      ],
      "metadata": {
        "id": "v8ppz9LcQM4C"
      },
      "execution_count": null,
      "outputs": []
    },
    {
      "cell_type": "markdown",
      "source": [
        "# Exercício 3 (em Java)\n",
        "Implemente o Exercício 1 em Java (Busca Sequêncial)\n",
        "\n",
        "# Exercício 4 (em Java)\n",
        "Implemente o Exercício 2 em Java (Busca Binária)"
      ],
      "metadata": {
        "id": "I4cPNinBGosY"
      }
    }
  ]
}