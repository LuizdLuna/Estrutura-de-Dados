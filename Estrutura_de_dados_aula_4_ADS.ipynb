{
  "cells": [
    {
      "cell_type": "markdown",
      "metadata": {
        "id": "X31bleOdZ9Kt"
      },
      "source": [
        "###Tempo de execução\n",
        "#####Para calcular o tempo de execução de cada uma das funções utilizaremos o módulo timeit do Python. O módulo timeit foi criado para que desenvolvedores Python possam fazer medições de tempo multi-plataforma executando as funções em um ambiente consistente e usando mecanismos de medição de tempo similares, dentro do possível, entre sistemas operacionais.\n",
        "\n",
        "#####Para usar o timeit você cria um objeto Timer cujos parâmetros são duas declarações em Python. O primeiro parâmetro é a declaração em Python cujo tempo você quer medir; o segundo parâmetro é uma declaração que será executada uma vez para configurar o teste. O módulo timeit medirá então quanto tempo leva a execução da declaração algumas vezes. Por padrão timeit tentará executar a declaração um milhão de vezes. Ao terminar ele devolve o tempo como um valor em ponto flutuante representando o número total de segundos.\n",
        "\n",
        "\n",
        "##### Vamos analisar qual das quatro formas de criar listas é mais eficiente em termos tempo de execução."
      ]
    },
    {
      "cell_type": "code",
      "execution_count": null,
      "metadata": {
        "id": "KaDt9cK5IuJi"
      },
      "outputs": [],
      "source": [
        "import timeit\n",
        "\n",
        "# Definindo as funções a serem testadas (Escreva aqui em baixo os códigos do slide)\n",
        "def teste1():\n",
        "    l = []\n",
        "    for i in range(100):\n",
        "        l = l + [i]\n",
        "\n",
        "def teste2():\n",
        "    l = []\n",
        "    for i in range(100):\n",
        "        l.append(i)\n",
        "\n",
        "def teste3():\n",
        "    l = [i for i in range(100)]\n",
        "\n",
        "def teste4():\n",
        "    l = list(range(100))\n",
        "\n",
        "\n",
        "# Usando timeit para testar o tempo de execução de cada função\n",
        "tempo_teste1 = timeit.timeit(\"teste1()\", globals=globals(), number=100000)\n",
        "tempo_teste2 = timeit.timeit(\"teste2()\", globals=globals(), number=100000)\n",
        "tempo_teste3 = timeit.timeit(\"teste3()\", globals=globals(), number=100000)\n",
        "tempo_teste4 = timeit.timeit(\"teste4()\", globals=globals(), number=100000)\n",
        "\n",
        "tempo_teste1, tempo_teste2, tempo_teste3, tempo_teste4"
      ]
    },
    {
      "cell_type": "markdown",
      "source": [
        "\n",
        "\n",
        "####**Função teste1**: Cada vez que você faz l = l + [i], você está criando uma nova lista e copiando todos os elementos da lista antiga, além de adicionar o novo elemento. Isso significa que o custo de concatenação cresce com o tamanho da lista, resultando em uma complexidade quadrática. Complexidade: O(n²)\n",
        "\n",
        "####**Função teste2**: Uma lista vazia l é criada e o método append adiciona um elemento ao final da lista. Em seguida, um loop for é usado para adicionar elementos à lista utilizando o método append. Cria a lista uma unica vez. Complexidade: O(n).\n",
        "\n",
        "####**Função teste3**: Aqui, uma compreensão de lista (list comprehension) é é uma maneira mais pythonica e eficiente de criar listas em uma única linha de código (Internamente, é equivalente a um loop for, mas com menos sobrecarga). Complexidade: O(n).\n",
        "\n",
        "####**Função teste4**:  O range gera uma sequência de números sem realmente armazená-los em memória como uma lista. Quando passamos essa sequência para a função list(), o Python aloca a memória necessária uma vez e preenche a lista diretamente. Essa operação é altamente otimizada e não envolve loops explícitos no código Python. Complexidade: O(n)\n",
        "\n"
      ],
      "metadata": {
        "id": "lUUJsROwivwS"
      }
    },
    {
      "cell_type": "code",
      "source": [
        "import matplotlib.pyplot as plt\n",
        "\n",
        "# Dados dos tempos de execução\n",
        "funcoes = ['teste1', 'teste2', 'teste3', 'teste4']\n",
        "tempos = [tempo_teste1, tempo_teste2, tempo_teste3, tempo_teste4]\n",
        "\n",
        "# Criando o gráfico\n",
        "plt.figure(figsize=(10, 6))\n",
        "plt.bar(funcoes, tempos, color='blue')\n",
        "plt.xlabel('Funções')\n",
        "plt.ylabel('Tempo de Execução (segundos)')\n",
        "plt.title('Tempo de Execução das Funções de Teste')\n",
        "plt.show()"
      ],
      "metadata": {
        "id": "HvXc7KDhkv3j"
      },
      "execution_count": null,
      "outputs": []
    },
    {
      "cell_type": "markdown",
      "source": [
        "###Implementação de lista simplesmente encadeada (ou Lista Ligada)\n",
        "#####  Em Java\n",
        "\n",
        "```java\n",
        "public class SinglyLinkedList<E> {\n",
        "\n",
        "    // Classe interna Node (nó)\n",
        "    private static class Node<E> {\n",
        "        private E element;      // Elemento armazenado no nó\n",
        "        private Node<E> next;   // Referência para o próximo nó\n",
        "\n",
        "        public Node(E e, Node<E> n) {\n",
        "            element = e;\n",
        "            next = n;\n",
        "        }\n",
        "\n",
        "        public E getElement() {\n",
        "            return element;\n",
        "        }\n",
        "\n",
        "        public Node<E> getNext() {\n",
        "            return next;\n",
        "        }\n",
        "\n",
        "        public void setNext(Node<E> n) {\n",
        "            next = n;\n",
        "        }\n",
        "    }\n",
        "\n",
        "    // Atributos da lista\n",
        "    private Node<E> head = null; // Primeiro nó da lista\n",
        "    private Node<E> tail = null; // Último nó da lista\n",
        "    private int size = 0;        // Tamanho da lista\n",
        "\n",
        "    // Construtor\n",
        "    public SinglyLinkedList() { }\n",
        "\n",
        "    // Métodos de acesso\n",
        "    public int size() {\n",
        "        return size;\n",
        "    }\n",
        "\n",
        "    public boolean isEmpty() {\n",
        "        return size == 0;\n",
        "    }\n",
        "\n",
        "    public E first() {\n",
        "        if (isEmpty()) return null;\n",
        "        return head.getElement();\n",
        "    }\n",
        "\n",
        "    public E last() {\n",
        "        if (isEmpty()) return null;\n",
        "        return tail.getElement();\n",
        "    }\n",
        "\n",
        "    // Métodos de atualização\n",
        "    public void addFirst(E e) {\n",
        "        head = new Node<>(e, head); // Cria um novo nó e o define como head\n",
        "        if (size == 0)\n",
        "            tail = head; // Caso especial: lista estava vazia\n",
        "        size++;\n",
        "    }\n",
        "\n",
        "    public void addLast(E e) {\n",
        "        Node<E> newest = new Node<>(e, null); // Cria um novo nó\n",
        "        if (isEmpty())\n",
        "            head = newest; // Caso especial: lista estava vazia\n",
        "        else\n",
        "            tail.setNext(newest); // Liga o novo nó ao final da lista\n",
        "        tail = newest; // Atualiza o tail para o novo nó\n",
        "        size++;\n",
        "    }\n",
        "\n",
        "    public E removeFirst() {\n",
        "        if (isEmpty()) return null; // Lista vazia, nada para remover\n",
        "        E answer = head.getElement();\n",
        "        head = head.getNext(); // Atualiza o head para o próximo nó\n",
        "        size--;\n",
        "        if (size == 0)\n",
        "            tail = null; // Caso especial: lista ficou vazia\n",
        "        return answer;\n",
        "    }\n",
        "}\n",
        "```\n"
      ],
      "metadata": {
        "id": "LhPVpOGZjQKh"
      }
    },
    {
      "cell_type": "markdown",
      "source": [
        "###Vamos implementar o Main.java\n",
        "\n",
        " -  A lista é criada usando a classe SinglyLinkedList, que implementa uma lista simplesmente encadeada.\n",
        "\n",
        "- A lista é do tipo Integer, ou seja, armazena valores inteiros.\n",
        "\n",
        "-       Os elementos 10, 20 e 30 são adicionados no início da lista usando o método addFirst.\n",
        "\n",
        "  -        Após as adições, a lista fica na ordem: [30, 20, 10].\n",
        "\n",
        "-  Os elementos 40 e 50 são adicionados no final da lista usando o método addLast.\n",
        "\n",
        "  -   Após as adições, a lista fica na ordem: [30, 20, 10, 40, 50].\n",
        "\n",
        "- Usamos o método first() retorna o primeiro elemento da lista. Qual número aparecerá?\n",
        "\n",
        "- Usamos método last() retorna o último elemento da lista. Qual número aparecerá?\n",
        "\n",
        "- Usamos método removeFirst() remove e retorna o primeiro elemento da lista (30).\n",
        "\n",
        "  - Após a remoção, a lista fica na ordem: [20, 10, 40, 50].\n",
        "\n",
        "-   Usamos método size() retorna o número de elementos na lista.\n",
        "\n",
        "  - Após a remoção do primeiro elemento, o tamanho da lista é 4.\n",
        "\n",
        "-   O método isEmpty() retorna true se a lista estiver vazia e false caso contrário.\n",
        "\n",
        "  - Neste caso, a lista não está vazia, então o método retorna false.\n",
        "\n",
        "-     Um loop while é usado para remover todos os elementos da lista, um por um, usando o método removeFirst().\n",
        "\n",
        "  -  A cada remoção, o elemento removido é exibido.\n",
        "-     Após a remoção de todos os elementos, o método isEmpty() é chamado novamente.\n",
        "\n",
        "  -   Agora, a lista está vazia, então o método retorna true.\n",
        "\n",
        "\n",
        "  ```java\n",
        "public class Main {\n",
        "    public static void main(String[] args) {\n",
        "        // Criando uma lista de inteiros\n",
        "        SinglyLinkedList<Integer> list = new SinglyLinkedList<>();\n",
        "\n",
        "        // Adicionando elementos no início\n",
        "        list.addFirst(10);\n",
        "        list.addFirst(20);\n",
        "        list.addFirst(30);\n",
        "\n",
        "        // Adicionando elementos no final\n",
        "        list.addLast(40);\n",
        "        list.addLast(50);\n",
        "\n",
        "        // Exibindo o primeiro e o último elemento\n",
        "        System.out.println(\"Primeiro elemento: \" + list.first()); // 30\n",
        "        System.out.println(\"Último elemento: \" + list.last());    // 50\n",
        "\n",
        "        // Removendo o primeiro elemento\n",
        "        System.out.println(\"Elemento removido: \" + list.removeFirst()); // 30\n",
        "\n",
        "        // Exibindo o tamanho da lista\n",
        "        System.out.println(\"Tamanho da lista: \" + list.size()); // 4\n",
        "\n",
        "        // Verificando se a lista está vazia\n",
        "        System.out.println(\"A lista está vazia? \" + list.isEmpty()); // false\n",
        "\n",
        "        // Removendo todos os elementos\n",
        "        while (!list.isEmpty()) {\n",
        "            System.out.println(\"Removendo: \" + list.removeFirst());\n",
        "        }\n",
        "\n",
        "        // Verificando se a lista está vazia após a remoção\n",
        "        System.out.println(\"A lista está vazia? \" + list.isEmpty()); // true\n",
        "    }\n",
        "}\n",
        "  ```"
      ],
      "metadata": {
        "id": "u6KVLINzkLXB"
      }
    },
    {
      "cell_type": "markdown",
      "metadata": {
        "id": "PQet0FTzJJ2P"
      },
      "source": [
        "###Implementação de lista duplamente encadeada em Python\n",
        "#####  classe DoublyLinkedBase para realizar operações básicas em uma lista duplamente ligada.\n",
        "\n",
        "Primeiro, vamos revisar a implementação da classe DoublyLinkedBase:\n"
      ]
    },
    {
      "cell_type": "code",
      "execution_count": null,
      "metadata": {
        "id": "P341Qza7JLQo"
      },
      "outputs": [],
      "source": [
        "class DoublyLinkedBase:\n",
        "    \"\"\"Uma classe base que fornece uma representação de lista duplamente ligada.\"\"\"\n",
        "\n",
        "    class Node:\n",
        "        \"\"\"Classe leve e não pública para armazenar um nó duplamente ligado.\"\"\"\n",
        "        __slots__ = '_element', '_prev', '_next'\n",
        "\n",
        "        def __init__(self, element, prev, next):\n",
        "            self._element = element\n",
        "            self._prev = prev\n",
        "            self._next = next\n",
        "\n",
        "    def __init__(self):\n",
        "        \"\"\"Cria uma lista vazia.\"\"\"\n",
        "        self._header = self.Node(None, None, None)\n",
        "        self._trailer = self.Node(None, None, None)\n",
        "        self._header._next = self._trailer  # trailer é depois do header\n",
        "        self._trailer._prev = self._header  # header é antes do trailer\n",
        "        self._size = 0  # número de elementos\n",
        "\n",
        "    def __len__(self):\n",
        "        \"\"\"Retorna o número de elementos na lista.\"\"\"\n",
        "        return self._size\n",
        "\n",
        "    def is_empty(self):\n",
        "        \"\"\"Retorna True se a lista estiver vazia.\"\"\"\n",
        "        return self._size == 0\n",
        "\n",
        "    def _insert_between(self, e, predecessor, successor):\n",
        "        \"\"\"Adiciona o elemento e entre dois nós existentes e retorna o novo nó.\"\"\"\n",
        "        newest = self.Node(e, predecessor, successor)  # ligado aos vizinhos\n",
        "        predecessor._next = newest\n",
        "        successor._prev = newest\n",
        "        self._size += 1\n",
        "        return newest\n",
        "\n",
        "    def _delete_node(self, node):\n",
        "        \"\"\"Exclui um nó não-sentinela da lista e retorna seu elemento.\"\"\"\n",
        "        predecessor = node._prev\n",
        "        successor = node._next\n",
        "        predecessor._next = successor\n",
        "        successor._prev = predecessor\n",
        "        self._size -= 1\n",
        "        element = node._element  # registra o elemento excluído\n",
        "        node._prev = node._next = node._element = None  # desativa o nó\n",
        "        return element  # retorna o elemento excluído\n"
      ]
    },
    {
      "cell_type": "markdown",
      "metadata": {
        "id": "C-FApFkBHYtu"
      },
      "source": [
        "##Exemplo 1: Inserir elementos na lista\n",
        "Vamos criar uma instância de DoublyLinkedBase e adicionar alguns elementos entre o cabeçalho e o trailer."
      ]
    },
    {
      "cell_type": "code",
      "execution_count": null,
      "metadata": {
        "id": "UiEbKZDACIJJ",
        "colab": {
          "base_uri": "https://localhost:8080/"
        },
        "outputId": "d433412a-8a35-476a-b30a-1dcb267c0a4c"
      },
      "outputs": [
        {
          "output_type": "stream",
          "name": "stdout",
          "text": [
            "O número de elementos: 4\n",
            "10\n",
            "20\n",
            "30\n",
            "40\n"
          ]
        }
      ],
      "source": [
        "# Cria uma instância de DoublyLinkedBase\n",
        "dll = DoublyLinkedBase()\n",
        "\n",
        "# Insere elementos na lista\n",
        "node1 = dll._insert_between(10, dll._header, dll._trailer)\n",
        "node2 = dll._insert_between(20, node1, dll._trailer)\n",
        "node3 = dll._insert_between(30, node2, dll._trailer)\n",
        "node4 = dll._insert_between(40, node3, dll._trailer)\n",
        "\n",
        "\n",
        "# Exibe o número de elementos na lista\n",
        "print('O número de elementos:',len(dll))\n",
        "\n",
        "# Percorre e imprime os elementos da lista\n",
        "current = dll._header._next\n",
        "while current != dll._trailer:\n",
        "    print(current._element)\n",
        "    current = current._next\n"
      ]
    },
    {
      "cell_type": "markdown",
      "source": [
        "##Exemplo 2: Excluir elementos da lista\n",
        "Vamos excluir um elemento da lista e imprimir os elementos restantes."
      ],
      "metadata": {
        "id": "c2_NpvhjvLJj"
      }
    },
    {
      "cell_type": "code",
      "execution_count": null,
      "metadata": {
        "id": "m0jkfRec6UYu",
        "colab": {
          "base_uri": "https://localhost:8080/"
        },
        "outputId": "983a82ca-7e98-427b-fb67-44ee7e6d096b"
      },
      "outputs": [
        {
          "output_type": "stream",
          "name": "stdout",
          "text": [
            "Tamanho da lista após exclusão: 3\n",
            "10\n",
            "30\n",
            "40\n"
          ]
        }
      ],
      "source": [
        "# Exclui o segundo nó (contendo 20)\n",
        "dll._delete_node(node2)\n",
        "\n",
        "# Exibe o número de elementos na lista\n",
        "print(\"Tamanho da lista após exclusão:\", len(dll))\n",
        "\n",
        "# Percorre e imprime os elementos restantes na lista\n",
        "current = dll._header._next\n",
        "while current != dll._trailer:\n",
        "    print(current._element)\n",
        "    current = current._next\n"
      ]
    },
    {
      "cell_type": "markdown",
      "source": [
        "##Exemplo 3: Verificar se a lista está vazia"
      ],
      "metadata": {
        "id": "CgSxA0aovY7g"
      }
    },
    {
      "cell_type": "code",
      "execution_count": null,
      "metadata": {
        "id": "fUfL8YYL6W8o",
        "colab": {
          "base_uri": "https://localhost:8080/"
        },
        "outputId": "6b05c7db-9676-43a9-94b2-fceb0c2c344a"
      },
      "outputs": [
        {
          "output_type": "stream",
          "name": "stdout",
          "text": [
            "A lista está vazia? False\n",
            "A lista está vazia após excluir todos os nós? False\n"
          ]
        }
      ],
      "source": [
        "# Verifica se a lista está vazia\n",
        "print(\"A lista está vazia?\", dll.is_empty())\n",
        "\n",
        "# Exclui todos os nós restantes\n",
        "dll._delete_node(node1)\n",
        "dll._delete_node(node3)\n",
        "\n",
        "# Verifica novamente se a lista está vazia\n",
        "print(\"A lista está vazia após excluir todos os nós?\", dll.is_empty())\n"
      ]
    },
    {
      "cell_type": "markdown",
      "source": [
        "##Exemplo 4: Inserir elementos no início e no fim da lista"
      ],
      "metadata": {
        "id": "TfOFGClmvkPo"
      }
    },
    {
      "cell_type": "code",
      "execution_count": null,
      "metadata": {
        "id": "IXB8V0Np6YJG",
        "colab": {
          "base_uri": "https://localhost:8080/"
        },
        "outputId": "35982c68-45f3-4d7c-d3c7-1040ea8f068e"
      },
      "outputs": [
        {
          "output_type": "stream",
          "name": "stdout",
          "text": [
            "Tamanho da lista: 3\n",
            "40\n",
            "40\n",
            "50\n"
          ]
        }
      ],
      "source": [
        "# Insere um novo nó no início (após o cabeçalho)\n",
        "first_node = dll._insert_between(40, dll._header, dll._header._next)\n",
        "\n",
        "# Insere um novo nó no fim (antes do trailer)\n",
        "last_node = dll._insert_between(50, dll._trailer._prev, dll._trailer)\n",
        "\n",
        "# Exibe o número de elementos na lista\n",
        "print(\"Tamanho da lista:\", len(dll))\n",
        "\n",
        "# Percorre e imprime os elementos na lista\n",
        "current = dll._header._next\n",
        "while current != dll._trailer:\n",
        "    print(current._element)\n",
        "    current = current._next\n"
      ]
    },
    {
      "cell_type": "markdown",
      "source": [
        "Esses exemplos mostram como você pode usar a classe DoublyLinkedBase para inserir e excluir elementos em uma lista duplamente ligada. Note que a classe DoublyLinkedBase é uma base para outras implementações mais específicas que podem fornecer uma interface pública mais completa e amigável para o usuário."
      ],
      "metadata": {
        "id": "6fP0pXfUwDNe"
      }
    }
  ],
  "metadata": {
    "colab": {
      "provenance": []
    },
    "kernelspec": {
      "display_name": "Python 3",
      "name": "python3"
    },
    "language_info": {
      "name": "python"
    }
  },
  "nbformat": 4,
  "nbformat_minor": 0
}