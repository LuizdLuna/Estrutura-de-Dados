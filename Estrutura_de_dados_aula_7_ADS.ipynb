{
  "nbformat": 4,
  "nbformat_minor": 0,
  "metadata": {
    "colab": {
      "provenance": []
    },
    "kernelspec": {
      "name": "python3",
      "display_name": "Python 3"
    },
    "language_info": {
      "name": "python"
    }
  },
  "cells": [
    {
      "cell_type": "markdown",
      "source": [
        "##Hashing"
      ],
      "metadata": {
        "id": "dTIrg2PwnasI"
      }
    },
    {
      "cell_type": "code",
      "execution_count": null,
      "metadata": {
        "id": "g275SDnh8PLr"
      },
      "outputs": [],
      "source": [
        "class HashTable:\n",
        "    def __init__(self):\n",
        "        # Inicializa a tabela hash com um tamanho fixo de 11 slots\n",
        "        self.size = 11\n",
        "        # Cria uma lista de slots vazios para as chaves\n",
        "        self.slots = [None] * self.size\n",
        "        # Cria uma lista de slots vazios para os dados associados às chaves\n",
        "        self.data = [None] * self.size\n",
        "\n",
        "    def put(self, key, data):\n",
        "        # Calcula o valor do hash para a chave\n",
        "        hashvalue = self.hashfunction(key, len(self.slots))\n",
        "\n",
        "        # Se o slot está vazio, insere a chave e os dados\n",
        "        if self.slots[hashvalue] is None:\n",
        "            self.slots[hashvalue] = key\n",
        "            self.data[hashvalue] = data\n",
        "        else:\n",
        "            # Se o slot contém a mesma chave, substitui os dados\n",
        "            if self.slots[hashvalue] == key:\n",
        "                self.data[hashvalue] = data  # substitui os dados\n",
        "            else:\n",
        "                # Caso contrário, procura o próximo slot vazio\n",
        "                nextslot = self.rehash(hashvalue, len(self.slots))\n",
        "                while self.slots[nextslot] is not None and self.slots[nextslot] != key:\n",
        "                    nextslot = self.rehash(nextslot, len(self.slots))\n",
        "\n",
        "                # Insere a chave e os dados no próximo slot vazio encontrado\n",
        "                if self.slots[nextslot] is None:\n",
        "                    self.slots[nextslot] = key\n",
        "                    self.data[nextslot] = data\n",
        "                else:\n",
        "                    # Se encontrar a mesma chave, substitui os dados\n",
        "                    self.data[nextslot] = data  # substitui os dados\n",
        "\n",
        "    def hashfunction(self, key, size):\n",
        "        # Função de hash simples que usa o operador de módulo\n",
        "        return key % size\n",
        "\n",
        "    def rehash(self, oldhash, size):\n",
        "        # Função de rehash que incrementa o valor do hash antigo\n",
        "        return (oldhash + 1) % size\n",
        "\n",
        "    def get(self, key):\n",
        "        # Calcula o valor do hash para a chave\n",
        "        startslot = self.hashfunction(key, len(self.slots))\n",
        "\n",
        "        data = None\n",
        "        stop = False\n",
        "        found = False\n",
        "        position = startslot\n",
        "        # Percorre os slots até encontrar a chave ou voltar ao slot inicial\n",
        "        while self.slots[position] is not None and not found and not stop:\n",
        "            if self.slots[position] == key:\n",
        "                found = True\n",
        "                data = self.data[position]\n",
        "            else:\n",
        "                position = self.rehash(position, len(self.slots))\n",
        "                if position == startslot:\n",
        "                    stop = True\n",
        "        return data\n",
        "\n",
        "    def __getitem__(self, key):\n",
        "        # Permite usar a sintaxe hash_table[key] para obter dados\n",
        "        return self.get(key)\n",
        "\n",
        "    def __setitem__(self, key, data):\n",
        "        # Permite usar a sintaxe hash_table[key] = data para inserir dados\n",
        "        self.put(key, data)\n"
      ]
    },
    {
      "cell_type": "markdown",
      "source": [
        "#Testando!"
      ],
      "metadata": {
        "id": "vWEVQ4q6I2dL"
      }
    },
    {
      "cell_type": "code",
      "source": [
        "# Criação da tabela hash\n",
        "hash_table = HashTable()"
      ],
      "metadata": {
        "id": "M0wbaQ-88rpj"
      },
      "execution_count": null,
      "outputs": []
    },
    {
      "cell_type": "code",
      "source": [
        "# Adicionar valores\n",
        "hash_table[54] = \"gato\"\n",
        "hash_table[26] = \"cachorro\"\n",
        "hash_table[93] = \"leão\"\n",
        "hash_table[17] = \"tigre\"\n",
        "hash_table[77] = \"pássaro\"\n",
        "hash_table[31] = \"peixe\"\n",
        "hash_table[44] = \"cavalo\"\n",
        "hash_table[55] = \"vaca\"\n",
        "\n"
      ],
      "metadata": {
        "id": "-GZIooMd_3gD"
      },
      "execution_count": null,
      "outputs": []
    },
    {
      "cell_type": "markdown",
      "source": [
        "####Qual é a razão de"
      ],
      "metadata": {
        "id": "8DonmnWFsNYl"
      }
    },
    {
      "cell_type": "code",
      "source": [
        "# Recuperar valores\n",
        "print(hash_table[54])  # Saída: gato\n",
        "print(hash_table[26])  # Saída: cachorro\n",
        "print(hash_table[93])  # Saída: leão\n",
        "print(hash_table[31])  # Saída: peixe"
      ],
      "metadata": {
        "id": "OmR1ryteASwd",
        "colab": {
          "base_uri": "https://localhost:8080/"
        },
        "outputId": "3813352c-4fc1-456b-c167-34cfb649b8c2"
      },
      "execution_count": null,
      "outputs": [
        {
          "output_type": "stream",
          "name": "stdout",
          "text": [
            "pantera\n",
            "cachorro\n",
            "leão\n",
            "peixe\n"
          ]
        }
      ]
    },
    {
      "cell_type": "code",
      "source": [
        "# Atualizar valor existente\n",
        "hash_table[54] = \"pantera\"\n",
        "print(hash_table[54])  # Saída: pantera"
      ],
      "metadata": {
        "id": "OE_lAn7UAija",
        "colab": {
          "base_uri": "https://localhost:8080/"
        },
        "outputId": "9699490f-7c0d-4e24-99ea-5ba9d8354de2"
      },
      "execution_count": null,
      "outputs": [
        {
          "output_type": "stream",
          "name": "stdout",
          "text": [
            "pantera\n"
          ]
        }
      ]
    },
    {
      "cell_type": "markdown",
      "source": [
        "# Um pouco mais sobre fator de Carga em Hash Table (λ = n/N)\n",
        "\n",
        "**Definição:**  \n",
        "O fator de carga é a razão entre o número de elementos armazenados (n) e o tamanho total da tabela (N).\n",
        "\n",
        "**Importância:**  \n",
        "Manter esse valor abaixo de certos limites é crucial para evitar muitas colisões, o que pode degradar a eficiência da tabela hash.\n",
        "\n",
        "## Encadeamento Separado\n",
        "\n",
        "Cada posição da tabela armazena uma lista (ou outro tipo de coleção) de elementos que compartilham o mesmo valor hash.\n",
        "\n",
        "**Limite Recomendado:**  \n",
        "Manter λ < 0,9 evita que as listas fiquem muito longas, garantindo que as operações permaneçam eficientes. Se o fator de carga se aproximar de 1, a chance de colisões aumenta e, com isso, o tempo necessário para buscar elementos também aumenta, pois será preciso percorrer listas maiores.\n",
        "\n",
        "## Endereçamento Aberto\n",
        "\n",
        "Em vez de usar listas, os elementos são armazenados diretamente na tabela. Em caso de colisão, são procurados outros espaços vazios segundo uma estratégia de sondagem.\n",
        "\n",
        "**Problema dos Agrupamentos (Clustering):**  \n",
        "À medida que λ aumenta (especialmente acima de 0,5), formam-se agrupamentos de elementos. Esses agrupamentos fazem com que a sondagem percorra longas sequências na tabela até encontrar um espaço vazio, aumentando o tempo de inserção e busca.\n",
        "\n",
        "**Limite Recomendado:**  \n",
        "Para sondagem linear, manter λ < 0,5 é ideal. Outros métodos de sondagem, como a sondagem quadrática, podem tolerar um fator um pouco maior (por exemplo, a implementação do Python impõe λ < 2/3).\n",
        "\n",
        "## Rehashing (Redimensionamento da Tabela)\n",
        "\n",
        "Se uma inserção faz com que o fator de carga ultrapasse o limite desejado, a tabela é redimensionada para restaurar a eficiência.\n",
        "\n",
        "Cria-se uma nova tabela (geralmente com o dobro do tamanho da anterior), e todos os elementos são reinseridos nela utilizando uma nova função de compressão que considera o novo tamanho.\n",
        "\n",
        "**Benefício:**  \n",
        "Ao dobrar o tamanho da tabela a cada redimensionamento, o custo do rehashing é amortizado, ou seja, o tempo extra gasto nessa operação se distribui entre muitas inserções, mantendo a eficiência geral da tabela hash.\n"
      ],
      "metadata": {
        "id": "gC8AQXoh5CVs"
      }
    }
  ]
}