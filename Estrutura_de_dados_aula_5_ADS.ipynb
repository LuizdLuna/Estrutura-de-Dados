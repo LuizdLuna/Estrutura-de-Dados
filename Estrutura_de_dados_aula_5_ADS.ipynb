{
  "cells": [
    {
      "cell_type": "markdown",
      "metadata": {
        "id": "X31bleOdZ9Kt"
      },
      "source": [
        "###Pilha (stack)\n",
        "#####Implementação de uma pilha usando uma lista Python como armazenamento"
      ]
    },
    {
      "cell_type": "code",
      "execution_count": null,
      "metadata": {
        "id": "KaDt9cK5IuJi"
      },
      "outputs": [],
      "source": [
        "class Empty(Exception):\n",
        "    \"\"\"Erro ao tentar acessar um elemento de um contêiner vazio.\"\"\"\n",
        "    pass\n",
        "\n",
        "\n",
        "class ArrayStack:\n",
        "    \"\"\"Implementação de uma pilha LIFO usando uma lista do Python como armazenamento subjacente.\"\"\"\n",
        "\n",
        "    def __init__(self):\n",
        "        \"\"\"Cria uma pilha vazia.\"\"\"\n",
        "        self._data = []\n",
        "\n",
        "    def __len__(self):\n",
        "        \"\"\"Retorna o número de elementos na pilha.\"\"\"\n",
        "        return len(self._data)\n",
        "\n",
        "    def is_empty(self):\n",
        "        \"\"\"Retorna True se a pilha estiver vazia.\"\"\"\n",
        "        return len(self._data) == 0\n",
        "\n",
        "    def push(self, e):\n",
        "        \"\"\"Adiciona o elemento e ao topo da pilha.\"\"\"\n",
        "        self._data.append(e)\n",
        "\n",
        "    def top(self):\n",
        "        \"\"\"Retorna (mas não remove) o elemento no topo da pilha.\n",
        "        Levanta a exceção Empty se a pilha estiver vazia.\n",
        "        \"\"\"\n",
        "        if self.is_empty():\n",
        "            raise Empty(\"A pilha está vazia\")\n",
        "        return self._data[-1]\n",
        "\n",
        "    def pop(self):\n",
        "        \"\"\"Remove e retorna o elemento do topo da pilha (ou seja, LIFO).\n",
        "        Levanta a exceção Empty se a pilha estiver vazia.\n",
        "        \"\"\"\n",
        "        if self.is_empty():\n",
        "            raise Empty(\"A pilha está vazia\")\n",
        "        return self._data.pop()"
      ]
    },
    {
      "cell_type": "markdown",
      "metadata": {
        "id": "DYTVai6aJAnq"
      },
      "source": [
        "#Testando!"
      ]
    },
    {
      "cell_type": "code",
      "execution_count": null,
      "metadata": {
        "id": "N37iK7GCI8G4"
      },
      "outputs": [],
      "source": [
        "stack = ArrayStack()"
      ]
    },
    {
      "cell_type": "code",
      "execution_count": null,
      "metadata": {
        "id": "7z3GM5Aw3WAU"
      },
      "outputs": [],
      "source": [
        "stack.push(1)"
      ]
    },
    {
      "cell_type": "code",
      "execution_count": null,
      "metadata": {
        "id": "O8dBnj_T3YFn"
      },
      "outputs": [],
      "source": [
        "stack.push(2)"
      ]
    },
    {
      "cell_type": "code",
      "execution_count": null,
      "metadata": {
        "id": "ImZmtSGW3bgo"
      },
      "outputs": [],
      "source": [
        "stack.push(3)"
      ]
    },
    {
      "cell_type": "code",
      "execution_count": null,
      "metadata": {
        "id": "JeVEnok63egT",
        "colab": {
          "base_uri": "https://localhost:8080/"
        },
        "outputId": "697cf779-978b-4b30-f831-f59f91350b6c"
      },
      "outputs": [
        {
          "output_type": "stream",
          "name": "stdout",
          "text": [
            "3\n"
          ]
        }
      ],
      "source": [
        "print(stack.top())  # Deve imprimir 3"
      ]
    },
    {
      "cell_type": "code",
      "execution_count": null,
      "metadata": {
        "id": "o1hxMkjd3ij7",
        "colab": {
          "base_uri": "https://localhost:8080/"
        },
        "outputId": "b148f71f-7e90-4d19-b861-da110ea0c8dc"
      },
      "outputs": [
        {
          "output_type": "stream",
          "name": "stdout",
          "text": [
            "3\n"
          ]
        }
      ],
      "source": [
        "print(stack.pop())  # Deve imprimir 3"
      ]
    },
    {
      "cell_type": "code",
      "execution_count": null,
      "metadata": {
        "id": "qRINIrWd3uah",
        "colab": {
          "base_uri": "https://localhost:8080/"
        },
        "outputId": "9c38fec7-3d53-4093-b04a-abcf67abc56b"
      },
      "outputs": [
        {
          "output_type": "stream",
          "name": "stdout",
          "text": [
            "2\n"
          ]
        }
      ],
      "source": [
        "print(stack.pop())  # Deve imprimir 2"
      ]
    },
    {
      "cell_type": "code",
      "execution_count": null,
      "metadata": {
        "id": "JZmUJckQ3yBo",
        "colab": {
          "base_uri": "https://localhost:8080/"
        },
        "outputId": "181c6378-6b31-4b40-e4dc-2fb99d6eddc8"
      },
      "outputs": [
        {
          "output_type": "stream",
          "name": "stdout",
          "text": [
            "False\n"
          ]
        }
      ],
      "source": [
        "print(stack.is_empty())  # Deve imprimir False"
      ]
    },
    {
      "cell_type": "code",
      "execution_count": null,
      "metadata": {
        "id": "-ZSi_x9C3xvg",
        "colab": {
          "base_uri": "https://localhost:8080/"
        },
        "outputId": "d651796a-e662-41ca-9da6-d98123d8e932"
      },
      "outputs": [
        {
          "output_type": "stream",
          "name": "stdout",
          "text": [
            "1\n"
          ]
        }
      ],
      "source": [
        "print(stack.pop())  # Deve imprimir 1"
      ]
    },
    {
      "cell_type": "code",
      "execution_count": null,
      "metadata": {
        "id": "YKVqCYy232lB",
        "colab": {
          "base_uri": "https://localhost:8080/"
        },
        "outputId": "74e5c59a-b7a4-4701-f416-a504599ba2f9"
      },
      "outputs": [
        {
          "output_type": "stream",
          "name": "stdout",
          "text": [
            "True\n"
          ]
        }
      ],
      "source": [
        "print(stack.is_empty())  # Deve imprimir True"
      ]
    },
    {
      "cell_type": "markdown",
      "metadata": {
        "id": "PQet0FTzJJ2P"
      },
      "source": [
        "###Fila (queue)\n",
        "##### Este código define a classe ArrayQueue com métodos para enfileirar (enqueue), desenfileirar (dequeue), verificar o elemento na frente (first), verificar se a fila está vazia (is_empty) e redimensionar a capacidade da fila (_resize). A exceção Empty é usada para lidar com tentativas de acessar elementos de uma fila vazia.\n",
        "\n"
      ]
    },
    {
      "cell_type": "code",
      "execution_count": null,
      "metadata": {
        "id": "P341Qza7JLQo"
      },
      "outputs": [],
      "source": [
        "class Empty(Exception):\n",
        "    \"\"\"Erro ao tentar acessar um elemento de um contêiner vazio.\"\"\"\n",
        "    pass\n",
        "\n",
        "\n",
        "class ArrayQueue:\n",
        "    \"\"\"Implementação de uma fila FIFO usando uma lista do Python como armazenamento subjacente.\"\"\"\n",
        "    DEFAULT_CAPACITY = 10  # capacidade moderada para todas as novas filas\n",
        "\n",
        "    def __init__(self):\n",
        "        \"\"\"Cria uma fila vazia.\"\"\"\n",
        "        self._data = [None] * ArrayQueue.DEFAULT_CAPACITY\n",
        "        self._size = 0\n",
        "        self._front = 0\n",
        "\n",
        "    def __len__(self):\n",
        "        \"\"\"Retorna o número de elementos na fila.\"\"\"\n",
        "        return self._size\n",
        "\n",
        "    def is_empty(self):\n",
        "        \"\"\"Retorna True se a fila estiver vazia.\"\"\"\n",
        "        return self._size == 0\n",
        "\n",
        "    def first(self):\n",
        "        \"\"\"Retorna (mas não remove) o elemento na frente da fila.\n",
        "        Levanta a exceção Empty se a fila estiver vazia.\n",
        "        \"\"\"\n",
        "        if self.is_empty():\n",
        "            raise Empty(\"A fila está vazia\")\n",
        "        return self._data[self._front]\n",
        "\n",
        "    def dequeue(self):\n",
        "        \"\"\"Remove e retorna o primeiro elemento da fila (i.e., FIFO).\n",
        "        Levanta a exceção Empty se a fila estiver vazia.\n",
        "        \"\"\"\n",
        "        if self.is_empty():\n",
        "            raise Empty(\"A fila está vazia\")\n",
        "        answer = self._data[self._front]\n",
        "        self._data[self._front] = None  # ajuda na coleta de lixo\n",
        "        self._front = (self._front + 1) % len(self._data)\n",
        "        self._size -= 1\n",
        "        return answer\n",
        "\n",
        "    def enqueue(self, e):\n",
        "        \"\"\"Adiciona um elemento ao final da fila.\"\"\"\n",
        "        if self._size == len(self._data):\n",
        "            self._resize(2 * len(self._data))  # dobra o tamanho do array\n",
        "        avail = (self._front + self._size) % len(self._data)\n",
        "        self._data[avail] = e\n",
        "        self._size += 1\n",
        "\n",
        "    def _resize(self, cap):\n",
        "        \"\"\"Redimensiona para uma nova lista com capacidade >= len(self).\"\"\"\n",
        "        old = self._data  # mantém a lista existente\n",
        "        self._data = [None] * cap  # aloca lista com nova capacidade\n",
        "        walk = self._front\n",
        "        for k in range(self._size):  # considera apenas os elementos existentes\n",
        "            self._data[k] = old[walk]  # intencionalmente desloca os índices\n",
        "            walk = (1 + walk) % len(old)  # usa o tamanho antigo como módulo\n",
        "        self._front = 0  # a frente foi realinhada"
      ]
    },
    {
      "cell_type": "markdown",
      "metadata": {
        "id": "C-FApFkBHYtu"
      },
      "source": [
        "#Testando!"
      ]
    },
    {
      "cell_type": "code",
      "execution_count": null,
      "metadata": {
        "id": "UiEbKZDACIJJ"
      },
      "outputs": [],
      "source": [
        "fila = ArrayQueue()"
      ]
    },
    {
      "cell_type": "code",
      "execution_count": null,
      "metadata": {
        "id": "m0jkfRec6UYu"
      },
      "outputs": [],
      "source": [
        "fila.enqueue(1)"
      ]
    },
    {
      "cell_type": "code",
      "execution_count": null,
      "metadata": {
        "id": "fUfL8YYL6W8o"
      },
      "outputs": [],
      "source": [
        "fila.enqueue(2)"
      ]
    },
    {
      "cell_type": "code",
      "execution_count": null,
      "metadata": {
        "id": "IXB8V0Np6YJG"
      },
      "outputs": [],
      "source": [
        "fila.enqueue(3)"
      ]
    },
    {
      "cell_type": "code",
      "execution_count": null,
      "metadata": {
        "id": "gBCfc4RT6Zae",
        "colab": {
          "base_uri": "https://localhost:8080/"
        },
        "outputId": "886e4a45-ef16-415b-8edb-b17406972b42"
      },
      "outputs": [
        {
          "output_type": "stream",
          "name": "stdout",
          "text": [
            "1\n"
          ]
        }
      ],
      "source": [
        "print(fila.first())  # Deve imprimir 1"
      ]
    },
    {
      "cell_type": "code",
      "execution_count": null,
      "metadata": {
        "id": "Asp2Pz676bPW",
        "colab": {
          "base_uri": "https://localhost:8080/"
        },
        "outputId": "371abcad-fea0-4572-b43f-e81d8c9d300a"
      },
      "outputs": [
        {
          "output_type": "stream",
          "name": "stdout",
          "text": [
            "1\n"
          ]
        }
      ],
      "source": [
        "print(fila.dequeue())  # Deve imprimir 1"
      ]
    },
    {
      "cell_type": "code",
      "execution_count": null,
      "metadata": {
        "id": "dZeS7ypz6cwg",
        "colab": {
          "base_uri": "https://localhost:8080/"
        },
        "outputId": "9409d1e6-3bb6-469a-c5d3-62475d1fcd66"
      },
      "outputs": [
        {
          "output_type": "stream",
          "name": "stdout",
          "text": [
            "2\n"
          ]
        }
      ],
      "source": [
        "print(fila.dequeue())  # Deve imprimir 2"
      ]
    },
    {
      "cell_type": "code",
      "execution_count": null,
      "metadata": {
        "id": "2qC0VheJ6es4",
        "colab": {
          "base_uri": "https://localhost:8080/"
        },
        "outputId": "684e7f4e-2987-44e8-efa5-258beb34cd0a"
      },
      "outputs": [
        {
          "output_type": "stream",
          "name": "stdout",
          "text": [
            "False\n"
          ]
        }
      ],
      "source": [
        "print(fila.is_empty())  # Deve imprimir False"
      ]
    },
    {
      "cell_type": "code",
      "execution_count": null,
      "metadata": {
        "id": "2ctx0X176gaI",
        "colab": {
          "base_uri": "https://localhost:8080/"
        },
        "outputId": "c47728d8-c2df-45b3-ac11-f85eae4513ac"
      },
      "outputs": [
        {
          "output_type": "stream",
          "name": "stdout",
          "text": [
            "3\n"
          ]
        }
      ],
      "source": [
        "print(fila.dequeue())  # Deve imprimir 3"
      ]
    },
    {
      "cell_type": "code",
      "execution_count": null,
      "metadata": {
        "id": "n4jw6Rh66jS9",
        "colab": {
          "base_uri": "https://localhost:8080/"
        },
        "outputId": "d9691220-c84e-4375-abe2-33fc4ed7c5d5"
      },
      "outputs": [
        {
          "output_type": "stream",
          "name": "stdout",
          "text": [
            "True\n"
          ]
        }
      ],
      "source": [
        "print(fila.is_empty())  # Deve imprimir True"
      ]
    },
    {
      "cell_type": "code",
      "execution_count": null,
      "metadata": {
        "id": "2u9UnsZU-f41",
        "colab": {
          "base_uri": "https://localhost:8080/",
          "height": 263
        },
        "outputId": "c2f12dec-398f-49da-8226-6913cb3a855a"
      },
      "outputs": [
        {
          "output_type": "error",
          "ename": "Empty",
          "evalue": "A fila está vazia",
          "traceback": [
            "\u001b[0;31m---------------------------------------------------------------------------\u001b[0m",
            "\u001b[0;31mEmpty\u001b[0m                                     Traceback (most recent call last)",
            "\u001b[0;32m<ipython-input-23-5828f0a41a35>\u001b[0m in \u001b[0;36m<cell line: 1>\u001b[0;34m()\u001b[0m\n\u001b[0;32m----> 1\u001b[0;31m \u001b[0mprint\u001b[0m\u001b[0;34m(\u001b[0m\u001b[0mfila\u001b[0m\u001b[0;34m.\u001b[0m\u001b[0mdequeue\u001b[0m\u001b[0;34m(\u001b[0m\u001b[0;34m)\u001b[0m\u001b[0;34m)\u001b[0m  \u001b[0;31m# Deve imprimir 3\u001b[0m\u001b[0;34m\u001b[0m\u001b[0;34m\u001b[0m\u001b[0m\n\u001b[0m",
            "\u001b[0;32m<ipython-input-12-6a0bf388c4f8>\u001b[0m in \u001b[0;36mdequeue\u001b[0;34m(self)\u001b[0m\n\u001b[1;32m     35\u001b[0m         \"\"\"\n\u001b[1;32m     36\u001b[0m         \u001b[0;32mif\u001b[0m \u001b[0mself\u001b[0m\u001b[0;34m.\u001b[0m\u001b[0mis_empty\u001b[0m\u001b[0;34m(\u001b[0m\u001b[0;34m)\u001b[0m\u001b[0;34m:\u001b[0m\u001b[0;34m\u001b[0m\u001b[0;34m\u001b[0m\u001b[0m\n\u001b[0;32m---> 37\u001b[0;31m             \u001b[0;32mraise\u001b[0m \u001b[0mEmpty\u001b[0m\u001b[0;34m(\u001b[0m\u001b[0;34m\"A fila está vazia\"\u001b[0m\u001b[0;34m)\u001b[0m\u001b[0;34m\u001b[0m\u001b[0;34m\u001b[0m\u001b[0m\n\u001b[0m\u001b[1;32m     38\u001b[0m         \u001b[0manswer\u001b[0m \u001b[0;34m=\u001b[0m \u001b[0mself\u001b[0m\u001b[0;34m.\u001b[0m\u001b[0m_data\u001b[0m\u001b[0;34m[\u001b[0m\u001b[0mself\u001b[0m\u001b[0;34m.\u001b[0m\u001b[0m_front\u001b[0m\u001b[0;34m]\u001b[0m\u001b[0;34m\u001b[0m\u001b[0;34m\u001b[0m\u001b[0m\n\u001b[1;32m     39\u001b[0m         \u001b[0mself\u001b[0m\u001b[0;34m.\u001b[0m\u001b[0m_data\u001b[0m\u001b[0;34m[\u001b[0m\u001b[0mself\u001b[0m\u001b[0;34m.\u001b[0m\u001b[0m_front\u001b[0m\u001b[0;34m]\u001b[0m \u001b[0;34m=\u001b[0m \u001b[0;32mNone\u001b[0m  \u001b[0;31m# ajuda na coleta de lixo\u001b[0m\u001b[0;34m\u001b[0m\u001b[0;34m\u001b[0m\u001b[0m\n",
            "\u001b[0;31mEmpty\u001b[0m: A fila está vazia"
          ]
        }
      ],
      "source": [
        "print(fila.dequeue())  # Deve imprimir Empty: A fila está vazia\n"
      ]
    },
    {
      "cell_type": "markdown",
      "source": [
        "#Deque"
      ],
      "metadata": {
        "id": "eM7D4wWaac4J"
      }
    },
    {
      "cell_type": "code",
      "source": [
        "class Deque:\n",
        "    def __init__(self):\n",
        "        self.items = []\n",
        "\n",
        "    def add_first(self, item):\n",
        "        \"\"\"Adiciona um item à frente do deque.\"\"\"\n",
        "        self.items.insert(0, item)\n",
        "\n",
        "    def add_last(self, item):\n",
        "        \"\"\"Adiciona um item ao final do deque.\"\"\"\n",
        "        self.items.append(item)\n",
        "\n",
        "    def delete_first(self):\n",
        "        \"\"\"Remove e retorna o primeiro item do deque. Lança um erro se o deque estiver vazio.\"\"\"\n",
        "        if self.is_empty():\n",
        "            raise IndexError(\"delete_first from empty deque\")\n",
        "        return self.items.pop(0)\n",
        "\n",
        "    def delete_last(self):\n",
        "        \"\"\"Remove e retorna o último item do deque. Lança um erro se o deque estiver vazio.\"\"\"\n",
        "        if self.is_empty():\n",
        "            raise IndexError(\"delete_last from empty deque\")\n",
        "        return self.items.pop()\n",
        "\n",
        "    def first(self):\n",
        "        \"\"\"Retorna (mas não remove) o primeiro item do deque. Lança um erro se o deque estiver vazio.\"\"\"\n",
        "        if self.is_empty():\n",
        "            raise IndexError(\"first from empty deque\")\n",
        "        return self.items[0]\n",
        "\n",
        "    def last(self):\n",
        "        \"\"\"Retorna (mas não remove) o último item do deque. Lança um erro se o deque estiver vazio.\"\"\"\n",
        "        if self.is_empty():\n",
        "            raise IndexError(\"last from empty deque\")\n",
        "        return self.items[-1]\n",
        "\n",
        "    def is_empty(self):\n",
        "        \"\"\"Retorna True se o deque estiver vazio, caso contrário, False.\"\"\"\n",
        "        return len(self.items) == 0\n",
        "\n",
        "    def __len__(self):\n",
        "        \"\"\"Retorna o número de elementos no deque.\"\"\"\n",
        "        return len(self.items)"
      ],
      "metadata": {
        "id": "hbATw465aelw"
      },
      "execution_count": null,
      "outputs": []
    },
    {
      "cell_type": "markdown",
      "source": [
        "Testando!"
      ],
      "metadata": {
        "id": "3DO6ktDrakRq"
      }
    },
    {
      "cell_type": "code",
      "source": [
        "# Exemplo de uso\n",
        "deque = Deque()"
      ],
      "metadata": {
        "id": "SKOAkxZCamOk"
      },
      "execution_count": null,
      "outputs": []
    },
    {
      "cell_type": "code",
      "source": [
        "# Adicionando elementos ao deque\n",
        "deque.add_first(1)  # Deque: [1]\n",
        "deque.add_last(2)   # Deque: [1, 2]\n",
        "deque.add_first(0)  # Deque: [0, 1, 2]"
      ],
      "metadata": {
        "id": "s9H2p2jlaoMc"
      },
      "execution_count": null,
      "outputs": []
    },
    {
      "cell_type": "code",
      "source": [
        "print(\"Primeiro elemento:\", deque.first())  # Saída: 0\n",
        "print(\"Último elemento:\", deque.last())     # Saída: 2"
      ],
      "metadata": {
        "id": "EL9Ab_lQapx3",
        "colab": {
          "base_uri": "https://localhost:8080/"
        },
        "outputId": "cf062af1-8ea4-4325-8c1c-3e4218fc3cd4"
      },
      "execution_count": null,
      "outputs": [
        {
          "output_type": "stream",
          "name": "stdout",
          "text": [
            "Primeiro elemento: 0\n",
            "Último elemento: 2\n"
          ]
        }
      ]
    },
    {
      "cell_type": "code",
      "source": [
        "# Removendo elementos do deque\n",
        "deque.delete_first()  # Remove 0; Deque: [1, 2]\n",
        "deque.delete_last()   # Remove 2; Deque: [1]"
      ],
      "metadata": {
        "id": "AsPtdLX8ar5o",
        "colab": {
          "base_uri": "https://localhost:8080/"
        },
        "outputId": "cf66b836-c22a-46bf-cff1-58c176d4e7f5"
      },
      "execution_count": null,
      "outputs": [
        {
          "output_type": "execute_result",
          "data": {
            "text/plain": [
              "2"
            ]
          },
          "metadata": {},
          "execution_count": 28
        }
      ]
    },
    {
      "cell_type": "code",
      "source": [
        "print(\"Deque após remoções:\", deque.items)  # Saída: [1]"
      ],
      "metadata": {
        "id": "smae89Ixavsw",
        "colab": {
          "base_uri": "https://localhost:8080/"
        },
        "outputId": "654b1fba-54cd-4afb-f7ec-4ebf9b639515"
      },
      "execution_count": null,
      "outputs": [
        {
          "output_type": "stream",
          "name": "stdout",
          "text": [
            "Deque após remoções: [1]\n"
          ]
        }
      ]
    },
    {
      "cell_type": "code",
      "source": [
        "# Verificando o comprimento do deque\n",
        "print(\"Tamanho do deque:\", len(deque))  # Saída: 1"
      ],
      "metadata": {
        "id": "GA9wANT6axh5",
        "colab": {
          "base_uri": "https://localhost:8080/"
        },
        "outputId": "7c224689-e04c-4165-e2fc-3035739685aa"
      },
      "execution_count": null,
      "outputs": [
        {
          "output_type": "stream",
          "name": "stdout",
          "text": [
            "Tamanho do deque: 1\n"
          ]
        }
      ]
    },
    {
      "cell_type": "code",
      "source": [
        "# Verificando se o deque está vazio\n",
        "print(\"Deque está vazio?\", deque.is_empty())  # Saída: False"
      ],
      "metadata": {
        "id": "FfGHf-qkay6a",
        "colab": {
          "base_uri": "https://localhost:8080/"
        },
        "outputId": "c1155069-a882-454a-957d-3bd122a6a9f2"
      },
      "execution_count": null,
      "outputs": [
        {
          "output_type": "stream",
          "name": "stdout",
          "text": [
            "Deque está vazio? False\n"
          ]
        }
      ]
    },
    {
      "cell_type": "code",
      "source": [
        "# Tentativa de remover de um deque vazio\n",
        "deque.delete_first()  # Remove 1; Deque: []\n",
        "try:\n",
        "    deque.delete_first()  # Deverá lançar um erro\n",
        "except IndexError as e:\n",
        "    print(e)  # Saída: delete_first from empty deque"
      ],
      "metadata": {
        "colab": {
          "base_uri": "https://localhost:8080/"
        },
        "id": "y5-7CKWXa0WL",
        "outputId": "5c77e56b-1526-4695-9dc4-0a68263d9d24"
      },
      "execution_count": null,
      "outputs": [
        {
          "output_type": "stream",
          "name": "stdout",
          "text": [
            "delete_first from empty deque\n"
          ]
        }
      ]
    },
    {
      "cell_type": "markdown",
      "source": [
        "#Java"
      ],
      "metadata": {
        "id": "VE3EbT8wji3f"
      }
    },
    {
      "cell_type": "markdown",
      "source": [
        "###Um Algoritmo para Correspondência de Delimitadores\n",
        "\n",
        "####Uma tarefa importante ao processar expressões aritméticas é garantir que seus símbolos delimitadores se correspondam corretamente. Podemos usar uma **pilha** para executar essa tarefa com uma única varredura da esquerda para a direita na string original.\n",
        "\n",
        "####Cada vez que encontramos um símbolo de abertura, empilhamos esse símbolo na **pilha**; e cada vez que encontramos um símbolo de fechamento, desempilhamos um símbolo da **pilha** (supondo que ela não esteja vazia) e verificamos se esses dois símbolos formam um par válido. Se chegarmos ao final da expressão e a pilha estiver vazia, então a expressão original foi devidamente correspondida. Caso contrário, deve haver um delimitador de abertura na pilha sem um símbolo de fechamento correspondente. Se o comprimento da expressão original for n, o algoritmo fará, no máximo, n chamadas de push e n chamadas de pop. Pode-se implementar em Java esse algoritmo. Assim, ele verifica especificamente os pares de delimitadores (), {} e [], mas poderia facilmente ser modificado para incluir outros símbolos. Em particular, pode-se definir duas strings fixas, \"({[\" e \")}]\", que são intencionalmente coordenadas para refletir os pares de símbolos. Ao examinar um caractere da string de expressão, chamamos o método indexOf da classe String nessas strings especiais para determinar se o caractere corresponde a um delimitador e, em caso afirmativo, qual deles. O método indexOf retorna o índice no qual um determinado caractere é encontrado pela primeira vez em uma string (ou −1 se o caractere não for encontrado).\n",
        "\n",
        "###Vamos testar esse exemplo!!!\n",
        "```java\n",
        "import java.util.Stack;\n",
        "\n",
        "public class DelimiterMatching {\n",
        "\n",
        "    /** Método fornecido para testar delimitadores */\n",
        "    public static boolean isMatched(String expression) {\n",
        "        final String opening = \"({[\";\n",
        "        final String closing = \")}]\";\n",
        "        Stack<Character> buffer = new Stack<>();\n",
        "        \n",
        "        for (char c : expression.toCharArray()) {\n",
        "            if (opening.indexOf(c) != -1) { // abre delimitador\n",
        "                buffer.push(c);\n",
        "            } else if (closing.indexOf(c) != -1) { // fecha delimitador\n",
        "                if (buffer.isEmpty()) {\n",
        "                    return false; // não há delimitador para combinar\n",
        "                }\n",
        "                if (closing.indexOf(c) != opening.indexOf(buffer.pop())) {\n",
        "                    return false; // delimitadores não combinam\n",
        "                }\n",
        "            }\n",
        "        }\n",
        "        return buffer.isEmpty(); // verifica se todos delimitadores foram combinados\n",
        "    }\n",
        "\n",
        "    /** Método main para testes rápidos */\n",
        "    public static void main(String[] args) {\n",
        "        String[] tests = {\n",
        "            \"( )(( )){([( )])}\",    // verdadeiro\n",
        "            \"((( )(( )){([( )])}))\",// verdadeiro\n",
        "            \")(\",                   // falso\n",
        "            \"({[)]}\",               // falso\n",
        "            \"((())\",                // falso\n",
        "            \"([]{})\",               // verdadeiro\n",
        "            \"[(])\",                 // falso\n",
        "            \"\",                     // verdadeiro (não há delimitadores, portanto, ok)\n",
        "            \"{[()]}\",               // verdadeiro\n",
        "        };\n",
        "\n",
        "        for (String test : tests) {\n",
        "            System.out.printf(\"Expressão: %-20s Resultado: %b\\n\", test, isMatched(test));\n",
        "        }\n",
        "    }\n",
        "}\n",
        "\n",
        "```"
      ],
      "metadata": {
        "id": "qJxnt3GVjlbP"
      }
    }
  ],
  "metadata": {
    "colab": {
      "provenance": []
    },
    "kernelspec": {
      "display_name": "Python 3",
      "name": "python3"
    },
    "language_info": {
      "name": "python"
    }
  },
  "nbformat": 4,
  "nbformat_minor": 0
}